{
 "cells": [
  {
   "cell_type": "markdown",
   "metadata": {},
   "source": [
    "# Imports"
   ]
  },
  {
   "cell_type": "code",
   "execution_count": 737,
   "metadata": {
    "ExecuteTime": {
     "end_time": "2020-11-16T02:48:46.047107Z",
     "start_time": "2020-11-16T02:48:43.707385Z"
    }
   },
   "outputs": [],
   "source": [
    "#basics\n",
    "import pandas as pd \n",
    "import numpy as np\n",
    "\n",
    "#plotting\n",
    "import matplotlib.pyplot as plt\n",
    "import seaborn as sns\n",
    "import pygal\n",
    "\n",
    "#files\n",
    "import glob\n",
    "import pickle\n",
    "\n",
    "#spacy\n",
    "import spacy\n",
    "import en_core_web_sm\n",
    "nlp = en_core_web_sm.load()\n",
    "\n",
    "#text manipulation\n",
    "import re\n",
    "import string\n",
    "\n",
    "#modeling\n",
    "from sklearn.base import TransformerMixin, BaseEstimator\n",
    "from sklearn.decomposition import NMF, TruncatedSVD, LatentDirichletAllocation\n",
    "from sklearn.discriminant_analysis import LinearDiscriminantAnalysis\n",
    "from sklearn.metrics.pairwise import cosine_similarity\n",
    "from sklearn.feature_extraction.text import CountVectorizer, TfidfVectorizer\n",
    "\n",
    "#user defined\n",
    "from SpacyPreprocessor import SpacyPreprocessor\n",
    "from TopicModeling import topic_model"
   ]
  },
  {
   "cell_type": "code",
   "execution_count": 447,
   "metadata": {
    "ExecuteTime": {
     "end_time": "2020-11-11T01:17:43.530152Z",
     "start_time": "2020-11-11T01:17:39.949374Z"
    },
    "scrolled": true
   },
   "outputs": [
    {
     "name": "stderr",
     "output_type": "stream",
     "text": [
      "/Users/labbot/opt/anaconda3/lib/python3.8/site-packages/IPython/core/interactiveshell.py:3071: DtypeWarning: Columns (19) have mixed types.Specify dtype option on import or set low_memory=False.\n",
      "  has_raised = await self.run_ast_nodes(code_ast.body, cell_name,\n",
      "/Users/labbot/opt/anaconda3/lib/python3.8/site-packages/IPython/core/interactiveshell.py:3071: DtypeWarning: Columns (18) have mixed types.Specify dtype option on import or set low_memory=False.\n",
      "  has_raised = await self.run_ast_nodes(code_ast.body, cell_name,\n"
     ]
    }
   ],
   "source": [
    "path = '/Users/labbot/Documents/metis_bootcamp/project04/allbreeds_data/'\n",
    "all_files = glob.glob(path + \"/*.csv\")\n",
    "\n",
    "li = []\n",
    "\n",
    "for filename in all_files:\n",
    "    one_df = pd.read_csv(filename, index_col=None, header=0)\n",
    "    li.append(one_df)\n",
    "\n",
    "df_raw = pd.concat(li, axis=0, ignore_index=True)"
   ]
  },
  {
   "cell_type": "code",
   "execution_count": 738,
   "metadata": {
    "ExecuteTime": {
     "end_time": "2020-11-16T02:49:18.559814Z",
     "start_time": "2020-11-16T02:49:18.338092Z"
    }
   },
   "outputs": [
    {
     "data": {
      "text/html": [
       "<div>\n",
       "<style scoped>\n",
       "    .dataframe tbody tr th:only-of-type {\n",
       "        vertical-align: middle;\n",
       "    }\n",
       "\n",
       "    .dataframe tbody tr th {\n",
       "        vertical-align: top;\n",
       "    }\n",
       "\n",
       "    .dataframe thead th {\n",
       "        text-align: right;\n",
       "    }\n",
       "</style>\n",
       "<table border=\"1\" class=\"dataframe\">\n",
       "  <thead>\n",
       "    <tr style=\"text-align: right;\">\n",
       "      <th></th>\n",
       "      <th>body</th>\n",
       "      <th>score_hidden</th>\n",
       "      <th>archived</th>\n",
       "      <th>name</th>\n",
       "      <th>author</th>\n",
       "      <th>author_flair_text</th>\n",
       "      <th>downs</th>\n",
       "      <th>created_utc</th>\n",
       "      <th>subreddit_id</th>\n",
       "      <th>link_id</th>\n",
       "      <th>parent_id</th>\n",
       "      <th>score</th>\n",
       "      <th>retrieved_on</th>\n",
       "      <th>controversiality</th>\n",
       "      <th>gilded</th>\n",
       "      <th>id</th>\n",
       "      <th>subreddit</th>\n",
       "      <th>ups</th>\n",
       "      <th>distinguished</th>\n",
       "      <th>author_flair_css_class</th>\n",
       "    </tr>\n",
       "  </thead>\n",
       "  <tbody>\n",
       "    <tr>\n",
       "      <th>1</th>\n",
       "      <td>Our lily is 12 and deaf and blind. Always fun ...</td>\n",
       "      <td>NaN</td>\n",
       "      <td>NaN</td>\n",
       "      <td>NaN</td>\n",
       "      <td>CorgiRawr</td>\n",
       "      <td>Jaxson and Lily (Pembrokes)</td>\n",
       "      <td>NaN</td>\n",
       "      <td>1559174562</td>\n",
       "      <td>t5_2rdw8</td>\n",
       "      <td>t3_bufjgt</td>\n",
       "      <td>t3_bufjgt</td>\n",
       "      <td>2</td>\n",
       "      <td>1563728193</td>\n",
       "      <td>0</td>\n",
       "      <td>0</td>\n",
       "      <td>epdv5nc</td>\n",
       "      <td>corgi</td>\n",
       "      <td>NaN</td>\n",
       "      <td>NaN</td>\n",
       "      <td>NaN</td>\n",
       "    </tr>\n",
       "    <tr>\n",
       "      <th>2</th>\n",
       "      <td>Our little one is still teething. Lost a few t...</td>\n",
       "      <td>NaN</td>\n",
       "      <td>NaN</td>\n",
       "      <td>NaN</td>\n",
       "      <td>sixmileswest</td>\n",
       "      <td>Lucy the Pembroke Corgi</td>\n",
       "      <td>NaN</td>\n",
       "      <td>1558916488</td>\n",
       "      <td>t5_2rdw8</td>\n",
       "      <td>t3_bt9lwm</td>\n",
       "      <td>t1_eowu0ye</td>\n",
       "      <td>2</td>\n",
       "      <td>1563437838</td>\n",
       "      <td>0</td>\n",
       "      <td>0</td>\n",
       "      <td>eowy57e</td>\n",
       "      <td>corgi</td>\n",
       "      <td>NaN</td>\n",
       "      <td>NaN</td>\n",
       "      <td>NaN</td>\n",
       "    </tr>\n",
       "  </tbody>\n",
       "</table>\n",
       "</div>"
      ],
      "text/plain": [
       "                                                body  score_hidden  archived  \\\n",
       "1  Our lily is 12 and deaf and blind. Always fun ...           NaN       NaN   \n",
       "2  Our little one is still teething. Lost a few t...           NaN       NaN   \n",
       "\n",
       "   name        author            author_flair_text  downs  created_utc  \\\n",
       "1   NaN     CorgiRawr  Jaxson and Lily (Pembrokes)    NaN   1559174562   \n",
       "2   NaN  sixmileswest      Lucy the Pembroke Corgi    NaN   1558916488   \n",
       "\n",
       "  subreddit_id    link_id   parent_id  score  retrieved_on  controversiality  \\\n",
       "1     t5_2rdw8  t3_bufjgt   t3_bufjgt      2    1563728193                 0   \n",
       "2     t5_2rdw8  t3_bt9lwm  t1_eowu0ye      2    1563437838                 0   \n",
       "\n",
       "   gilded       id subreddit  ups distinguished author_flair_css_class  \n",
       "1       0  epdv5nc     corgi  NaN           NaN                    NaN  \n",
       "2       0  eowy57e     corgi  NaN           NaN                    NaN  "
      ]
     },
     "execution_count": 738,
     "metadata": {},
     "output_type": "execute_result"
    }
   ],
   "source": [
    "df_raw.head(2)"
   ]
  },
  {
   "cell_type": "code",
   "execution_count": 449,
   "metadata": {
    "ExecuteTime": {
     "end_time": "2020-11-11T01:17:43.690609Z",
     "start_time": "2020-11-11T01:17:43.631821Z"
    }
   },
   "outputs": [
    {
     "data": {
      "text/plain": [
       "(470087, 20)"
      ]
     },
     "execution_count": 449,
     "metadata": {},
     "output_type": "execute_result"
    }
   ],
   "source": [
    "df_raw.shape"
   ]
  },
  {
   "cell_type": "code",
   "execution_count": 450,
   "metadata": {
    "ExecuteTime": {
     "end_time": "2020-11-11T01:17:45.386858Z",
     "start_time": "2020-11-11T01:17:43.692902Z"
    }
   },
   "outputs": [
    {
     "data": {
      "text/plain": [
       "body                      414057\n",
       "score_hidden                   0\n",
       "archived                       0\n",
       "name                           0\n",
       "author                     76777\n",
       "author_flair_text           1127\n",
       "downs                          0\n",
       "created_utc               465666\n",
       "subreddit_id                   7\n",
       "link_id                    82195\n",
       "parent_id                 222183\n",
       "score                        385\n",
       "retrieved_on              463015\n",
       "controversiality               2\n",
       "gilded                         3\n",
       "id                        470087\n",
       "subreddit                      7\n",
       "ups                            0\n",
       "distinguished                  1\n",
       "author_flair_css_class         3\n",
       "dtype: int64"
      ]
     },
     "execution_count": 450,
     "metadata": {},
     "output_type": "execute_result"
    }
   ],
   "source": [
    "df_raw.nunique()"
   ]
  },
  {
   "cell_type": "code",
   "execution_count": 451,
   "metadata": {
    "ExecuteTime": {
     "end_time": "2020-11-11T01:17:45.626193Z",
     "start_time": "2020-11-11T01:17:45.388703Z"
    }
   },
   "outputs": [
    {
     "data": {
      "text/plain": [
       "body                           2\n",
       "score_hidden              470087\n",
       "archived                  470087\n",
       "name                      470087\n",
       "author                         0\n",
       "author_flair_text         444168\n",
       "downs                     470087\n",
       "created_utc                    0\n",
       "subreddit_id                   0\n",
       "link_id                        0\n",
       "parent_id                      0\n",
       "score                          0\n",
       "retrieved_on                   0\n",
       "controversiality               0\n",
       "gilded                         0\n",
       "id                             0\n",
       "subreddit                      0\n",
       "ups                       470087\n",
       "distinguished             465909\n",
       "author_flair_css_class    469728\n",
       "dtype: int64"
      ]
     },
     "execution_count": 451,
     "metadata": {},
     "output_type": "execute_result"
    }
   ],
   "source": [
    "df_raw.isnull().sum()"
   ]
  },
  {
   "cell_type": "code",
   "execution_count": 452,
   "metadata": {
    "ExecuteTime": {
     "end_time": "2020-11-11T01:17:45.720815Z",
     "start_time": "2020-11-11T01:17:45.628034Z"
    }
   },
   "outputs": [
    {
     "data": {
      "text/plain": [
       "pitbulls            141515\n",
       "germanshepherds      72597\n",
       "corgi                67215\n",
       "Dachshund            64995\n",
       "goldenretrievers     55851\n",
       "shiba                39201\n",
       "labrador             28713\n",
       "Name: subreddit, dtype: int64"
      ]
     },
     "execution_count": 452,
     "metadata": {},
     "output_type": "execute_result"
    }
   ],
   "source": [
    "df_raw['subreddit'].value_counts()"
   ]
  },
  {
   "cell_type": "code",
   "execution_count": 453,
   "metadata": {
    "ExecuteTime": {
     "end_time": "2020-11-11T01:17:45.917828Z",
     "start_time": "2020-11-11T01:17:45.724150Z"
    }
   },
   "outputs": [
    {
     "data": {
      "text/plain": [
       "(470085, 20)"
      ]
     },
     "execution_count": 453,
     "metadata": {},
     "output_type": "execute_result"
    }
   ],
   "source": [
    "# need to drop the two rows where comment body is missing\n",
    "df_raw = df_raw.dropna(subset = ['body'])\n",
    "df_raw.shape"
   ]
  },
  {
   "cell_type": "code",
   "execution_count": 454,
   "metadata": {
    "ExecuteTime": {
     "end_time": "2020-11-11T01:17:46.096380Z",
     "start_time": "2020-11-11T01:17:45.920756Z"
    }
   },
   "outputs": [
    {
     "data": {
      "text/plain": [
       "(466148, 20)"
      ]
     },
     "execution_count": 454,
     "metadata": {},
     "output_type": "execute_result"
    }
   ],
   "source": [
    "# remove posts from an automoderator\n",
    "df_raw = df_raw[df_raw['author'] != 'AutoModerator']\n",
    "df_raw.shape"
   ]
  },
  {
   "cell_type": "code",
   "execution_count": 455,
   "metadata": {
    "ExecuteTime": {
     "end_time": "2020-11-11T01:17:47.903424Z",
     "start_time": "2020-11-11T01:17:46.098601Z"
    }
   },
   "outputs": [
    {
     "data": {
      "text/plain": [
       "(79068, 3)"
      ]
     },
     "execution_count": 455,
     "metadata": {},
     "output_type": "execute_result"
    }
   ],
   "source": [
    "# document = all comments on a given post\n",
    "df = df_raw.groupby(['link_id','subreddit'], as_index = False).agg({'body': ' '.join})\n",
    "\n",
    "# write final df to pickle\n",
    "with open('document_df.pickle', 'wb') as to_write:\n",
    "    pickle.dump(df, to_write)\n",
    "\n",
    "# check how many documents this yielded\n",
    "df.shape"
   ]
  },
  {
   "cell_type": "code",
   "execution_count": 456,
   "metadata": {
    "ExecuteTime": {
     "end_time": "2020-11-11T01:17:49.898858Z",
     "start_time": "2020-11-11T01:17:47.905106Z"
    }
   },
   "outputs": [
    {
     "data": {
      "image/png": "[encoded data removed]",
      "text/plain": [
       "<Figure size 432x288 with 1 Axes>"
      ]
     },
     "metadata": {
      "needs_background": "light"
     },
     "output_type": "display_data"
    }
   ],
   "source": [
    "# check the length of newly created documents\n",
    "df['doc_length'] = df['body'].str.split().str.len()\n",
    "df['doc_length'][df['doc_length'] < 1500].hist(bins=100);"
   ]
  },
  {
   "cell_type": "code",
   "execution_count": 739,
   "metadata": {
    "ExecuteTime": {
     "end_time": "2020-11-16T02:50:37.296702Z",
     "start_time": "2020-11-16T02:50:36.942595Z"
    }
   },
   "outputs": [
    {
     "data": {
      "text/plain": [
       "count    79068.000000\n",
       "mean       103.041230\n",
       "std        260.327681\n",
       "min          1.000000\n",
       "25%         10.000000\n",
       "50%         29.000000\n",
       "75%         90.000000\n",
       "max      10605.000000\n",
       "Name: doc_length, dtype: float64"
      ]
     },
     "execution_count": 739,
     "metadata": {},
     "output_type": "execute_result"
    }
   ],
   "source": [
    "df['doc_length'].describe()"
   ]
  },
  {
   "cell_type": "markdown",
   "metadata": {},
   "source": [
    "# Preprocessing"
   ]
  },
  {
   "cell_type": "markdown",
   "metadata": {},
   "source": [
    "## Define Stopwords\n",
    "Note: I've added to the custom stopwords list iteratively during the EDA + modeling."
   ]
  },
  {
   "cell_type": "code",
   "execution_count": 542,
   "metadata": {
    "ExecuteTime": {
     "end_time": "2020-11-12T18:35:38.920272Z",
     "start_time": "2020-11-12T18:35:38.491936Z"
    }
   },
   "outputs": [],
   "source": [
    "# Create list of stopwords\n",
    "stop_words = spacy_model.Defaults.stop_words\n",
    "\n",
    "# list of words that are germane to subject that I'll treat as stop words\n",
    "custom_stopwords = ['pit','bull','pitbull','dog','breed','puppy','good','love','thank',\n",
    "                   'boy','girl','people','owner','like','look','know','luck','sorry','loss','lose','look',\n",
    "                   'lol','haha','pron','thing', 'com','https','think','remove','want','birthday','time','year',\n",
    "                    'day','oh','sure', 'post','comment','delete','sub','subreddit', 'hi', 'utm', 'reddit', 'www', \n",
    "                    'reddit', 'www', 'share', 'bot', 'amp', 'utm', 'faq', 'amp', 'imgur', 'omg', 'ah', 'hello', \n",
    "                    'try', 'right', 'find','need','come','way','use','lot','imgur gallery','imgur','gallery','gif',\n",
    "                    'app','yes','let','minute','month', 'week','year','new','wow','corgi','golden retriever','golden',\n",
    "                    'retriever','shiba','inu','shiba inu','dachshund','german','shepherd','german shepherd','labrador',\n",
    "                    'lab','greyhound','germanshepherd','pup','life','ignoreme','source','wake','lb','lbs','ask',\n",
    "                    'little','picture','stuff','np','source','ha','pibble','pittie','pitty','pic', 'wiener','shibe',\n",
    "                    'link','github','autplayer','message','old','video','hour','super','ago', 'pretty','image','photo',\n",
    "                    'metric', 'user' , 'cm', 'sw','ref', 'cp','subject','send', 'longer', 'opt', 'don',  'reply',  'comments',\n",
    "                    'wiki','mp','version','autplaye', 'delet','downloadable','clickablelinkbot','info','ignore','ppx','request',\n",
    "                    'report', 'phonebatterylevelbot', 'battery','vreddit', 'downloader','mb','beep','botwatch', 'xrrvh' ,\n",
    "                    'list',  'res' , 'non' 'mobile' ,'pmdevita', 'issue', 'add', 'vredditshare', 'detect', 'levels', 'ocr', \n",
    "                    'phone' 'charge', 'index', 'preview', 'redd', 'format','sneakpeekbot', 'downvote', 'blacklist', 'branch', \n",
    "                    'manager',  'assistant','autplaye','send','hey','live']\n",
    "\n",
    "# add custom stopwords to stopwords list\n",
    "for s in custom_stopwords:\n",
    "    stop_words.add(s)"
   ]
  },
  {
   "cell_type": "markdown",
   "metadata": {},
   "source": [
    "## SpaCy Pipeline"
   ]
  },
  {
   "cell_type": "code",
   "execution_count": 459,
   "metadata": {
    "ExecuteTime": {
     "end_time": "2020-11-11T01:17:55.258122Z",
     "start_time": "2020-11-11T01:17:50.746201Z"
    }
   },
   "outputs": [],
   "source": [
    "# load spacy model\n",
    "spacy_model = SpacyPreprocessor.load_model()"
   ]
  },
  {
   "cell_type": "code",
   "execution_count": 577,
   "metadata": {
    "ExecuteTime": {
     "end_time": "2020-11-12T19:05:10.878640Z",
     "start_time": "2020-11-12T19:00:32.765648Z"
    }
   },
   "outputs": [
    {
     "name": "stderr",
     "output_type": "stream",
     "text": [
      "79068it [04:37, 284.42it/s]\n"
     ]
    }
   ],
   "source": [
    "preprocessor = SpacyPreprocessor(spacy_model=spacy_model, lemmatize=True, remove_numbers=True, \n",
    "                                 remove_stopwords=False, remove_special=True, \n",
    "                                 pos_to_remove=['PROPN','ADP','SYM','NUM','AUX'])\n",
    "df['spacy_pipe'] = preprocessor.preprocess_text_list(list(df['body']))"
   ]
  },
  {
   "cell_type": "code",
   "execution_count": 576,
   "metadata": {
    "ExecuteTime": {
     "end_time": "2020-11-12T18:59:59.726504Z",
     "start_time": "2020-11-12T18:59:59.657831Z"
    }
   },
   "outputs": [
    {
     "data": {
      "text/html": [
       "<div>\n",
       "<style scoped>\n",
       "    .dataframe tbody tr th:only-of-type {\n",
       "        vertical-align: middle;\n",
       "    }\n",
       "\n",
       "    .dataframe tbody tr th {\n",
       "        vertical-align: top;\n",
       "    }\n",
       "\n",
       "    .dataframe thead th {\n",
       "        text-align: right;\n",
       "    }\n",
       "</style>\n",
       "<table border=\"1\" class=\"dataframe\">\n",
       "  <thead>\n",
       "    <tr style=\"text-align: right;\">\n",
       "      <th></th>\n",
       "      <th>link_id</th>\n",
       "      <th>subreddit</th>\n",
       "      <th>body</th>\n",
       "      <th>doc_length</th>\n",
       "      <th>spacy_pipe</th>\n",
       "    </tr>\n",
       "  </thead>\n",
       "  <tbody>\n",
       "    <tr>\n",
       "      <th>0</th>\n",
       "      <td>t3_8z5ew2</td>\n",
       "      <td>goldenretrievers</td>\n",
       "      <td>What's the new pupper's name? Utah</td>\n",
       "      <td>6</td>\n",
       "      <td>what the pupper 's name</td>\n",
       "    </tr>\n",
       "    <tr>\n",
       "      <th>1</th>\n",
       "      <td>t3_8zrnvs</td>\n",
       "      <td>pitbulls</td>\n",
       "      <td>Dude, she's beautiful!</td>\n",
       "      <td>3</td>\n",
       "      <td>pron</td>\n",
       "    </tr>\n",
       "    <tr>\n",
       "      <th>2</th>\n",
       "      <td>t3_90swcq</td>\n",
       "      <td>germanshepherds</td>\n",
       "      <td>Wow. I would make that into a tattoo ����</td>\n",
       "      <td>9</td>\n",
       "      <td>wow  pron  would make that a tattoo</td>\n",
       "    </tr>\n",
       "    <tr>\n",
       "      <th>3</th>\n",
       "      <td>t3_9230g8</td>\n",
       "      <td>germanshepherds</td>\n",
       "      <td>A big puppy hah</td>\n",
       "      <td>4</td>\n",
       "      <td>a puppy hah</td>\n",
       "    </tr>\n",
       "    <tr>\n",
       "      <th>4</th>\n",
       "      <td>t3_925zut</td>\n",
       "      <td>pitbulls</td>\n",
       "      <td>Fair enough. Perish Sorry thought you someone ...</td>\n",
       "      <td>12</td>\n",
       "      <td>fair enough think  pron  someone else  o</td>\n",
       "    </tr>\n",
       "  </tbody>\n",
       "</table>\n",
       "</div>"
      ],
      "text/plain": [
       "     link_id         subreddit  \\\n",
       "0  t3_8z5ew2  goldenretrievers   \n",
       "1  t3_8zrnvs          pitbulls   \n",
       "2  t3_90swcq   germanshepherds   \n",
       "3  t3_9230g8   germanshepherds   \n",
       "4  t3_925zut          pitbulls   \n",
       "\n",
       "                                                body  doc_length  \\\n",
       "0                 What's the new pupper's name? Utah           6   \n",
       "1                             Dude, she's beautiful!           3   \n",
       "2          Wow. I would make that into a tattoo ����           9   \n",
       "3                                    A big puppy hah           4   \n",
       "4  Fair enough. Perish Sorry thought you someone ...          12   \n",
       "\n",
       "                                 spacy_pipe  \n",
       "0                   what the pupper 's name  \n",
       "1                                     pron   \n",
       "2     wow  pron  would make that a tattoo    \n",
       "3                               a puppy hah  \n",
       "4  fair enough think  pron  someone else  o  "
      ]
     },
     "execution_count": 576,
     "metadata": {},
     "output_type": "execute_result"
    }
   ],
   "source": [
    "# check what the spacy-processed data looks like:\n",
    "df.head()"
   ]
  },
  {
   "cell_type": "code",
   "execution_count": 462,
   "metadata": {
    "ExecuteTime": {
     "end_time": "2020-11-11T01:22:50.290755Z",
     "start_time": "2020-11-11T01:22:50.128289Z"
    }
   },
   "outputs": [],
   "source": [
    "# write cleaned df to pickle\n",
    "with open('document_df_clean.pickle', 'wb') as to_write:\n",
    "    pickle.dump(df, to_write)"
   ]
  },
  {
   "cell_type": "code",
   "execution_count": 101,
   "metadata": {
    "ExecuteTime": {
     "end_time": "2020-11-07T00:02:48.018871Z",
     "start_time": "2020-11-07T00:02:47.964447Z"
    }
   },
   "outputs": [],
   "source": [
    "# define corpus as the spacy-processed version of the data\n",
    "corpus = df['spacy_pipe']"
   ]
  },
  {
   "cell_type": "markdown",
   "metadata": {},
   "source": [
    "# Topic Modeling EDA\n",
    "Iterate through combinations of different vectorizers and topic modeling algorithms and print top keywords to gut check which is working best with the data"
   ]
  },
  {
   "cell_type": "markdown",
   "metadata": {},
   "source": [
    "## Combinations of Vectorizers and Models"
   ]
  },
  {
   "cell_type": "code",
   "execution_count": 580,
   "metadata": {
    "ExecuteTime": {
     "end_time": "2020-11-12T19:09:17.591406Z",
     "start_time": "2020-11-12T19:09:05.487504Z"
    }
   },
   "outputs": [
    {
     "name": "stderr",
     "output_type": "stream",
     "text": [
      "/Users/labbot/opt/anaconda3/lib/python3.8/site-packages/sklearn/feature_extraction/text.py:383: UserWarning: Your stop_words may be inconsistent with your preprocessing. Tokenizing the stop words generated tokens ['ll', 've'] not in stop_words.\n",
      "  warnings.warn('Your stop_words may be inconsistent with '\n"
     ]
    },
    {
     "name": "stdout",
     "output_type": "stream",
     "text": [
      "\n",
      "Topic  0\n",
      "work, walk, help, home, long, happy, great, feel, vet, big, food, start, tell, bad, training\n",
      "\n",
      "Topic  1\n",
      "beautiful, happy, sweet, heart, hope, baby, hug, cute, face, friend, feel, handsome, wish, eye, family\n",
      "\n",
      "Topic  2\n",
      "food, vet, eat, feed, diet, allergy, weight, grain, raw, chicken, free, grain free, kibble, skin, ear\n",
      "\n",
      "Topic  3\n",
      "toy, chew, destroy, ball, happy, eat, play, long, beautiful, bone, black, treat, cute, bed, crate\n",
      "\n",
      "Topic  4\n",
      "breeder, toy, ear, cute, black, mix, big, destroy, buy, rescue, shelter, tail, adorable, ball, chew\n",
      "\n",
      "Topic  5\n",
      "breeder, toy, hope, vet, feel, heart, home, surgery, hard, family, pain, help, health, friend, hug\n",
      "\n",
      "Topic  6\n",
      "collar, toy, harness, pull, leash, prong, vet, walk, prong collar, bite, pain, ball, attack, bad, destroy\n",
      "\n",
      "Topic  7\n",
      "happy, breeder, collar, training, work, happy happy, harness, train, beautiful, great, treat, rescue, crate, pull, food\n",
      "\n",
      "Topic  8\n",
      "happy, food, cat, bite, animal, aggressive, play, attack, park, eat, shelter, kid, adopt, human, mix\n",
      "\n",
      "Topic  9\n",
      "ear, happy, vet, tail, surgery, help, hope, crate, crop, recovery, happy happy, infection, bite, poor, attack\n"
     ]
    }
   ],
   "source": [
    "allbreed_topics = topic_model(data=corpus,\n",
    "                             vectorizer=CountVectorizer(stop_words=stop_words,min_df=10,ngram_range=(1, 2)),\n",
    "                            model='lsa',num_topics=10)\n",
    "allbreed_topics_cv_lsa = allbreed_topics.get_topics()"
   ]
  },
  {
   "cell_type": "code",
   "execution_count": 581,
   "metadata": {
    "ExecuteTime": {
     "end_time": "2020-11-12T19:09:26.169832Z",
     "start_time": "2020-11-12T19:09:17.593667Z"
    }
   },
   "outputs": [
    {
     "name": "stdout",
     "output_type": "stream",
     "text": [
      "\n",
      "Topic  0\n",
      "cute, beautiful, happy, adorable, face, sweet, handsome, great, ear, baby, big, eye, gorgeous, cutie, work\n",
      "\n",
      "Topic  1\n",
      "cute, cute cute, cute pupper, adorable cute, cute adorable, face cute, ear cute, cute face, sooo cute, cute baby, cute ear, soooo cute, damn cute, cute great, cute lil\n",
      "\n",
      "Topic  2\n",
      "beautiful, cute, beautiful beautiful, gorgeous, beautiful eye, beautiful smile, beautiful face, beautiful baby, gorgeous beautiful, cute beautiful, absolutely beautiful, beautiful coat, beautiful pupper, beautiful gorgeous, beautiful cute\n",
      "\n",
      "Topic  3\n",
      "happy, happy happy, cute, beautiful, handsome, cake, happy beautiful, smile, happy cake, beautiful happy, happy handsome, cute happy, happy sweet, happy face, handsome happy\n",
      "\n",
      "Topic  4\n",
      "handsome, gorgeous, adorable, boi, face, handsome boi, ear, handsome handsome, cutie, happy handsome, eye, fella, handsome guy, handsome fella, handsome man\n",
      "\n",
      "Topic  5\n",
      "adorable, cutie, face, ear, sweet, smile, precious, gorgeous, sweet face, absolutely adorable, eye, adorable cute, baby, cute adorable, adorable adorable\n",
      "\n",
      "Topic  6\n",
      "sweet, face, sweet face, cutie, eye, baby, smile, gorgeous, sweet baby, precious, kiss, heart, sweet sweet, face cute, cute face\n",
      "\n",
      "Topic  7\n",
      "ear, cutie, gorgeous, floppy, big, floppy ear, ear ear, ear cute, grow, big ear, eye, cute ear, mix, stand, crop\n",
      "\n",
      "Topic  8\n",
      "cutie, cutie pie, pie, great, eye, nice, patootie, toy, real, precious, woof, pupper, work, congrat, bed\n",
      "\n",
      "Topic  9\n",
      "face, gorgeous, eye, great, happy face, face cute, cute face, beautiful face, perfect, face face, belly, absolutely gorgeous, absolutely, color, precious\n"
     ]
    }
   ],
   "source": [
    "allbreed_topics = topic_model(data=corpus,\n",
    "                             vectorizer=TfidfVectorizer(stop_words=stop_words,min_df=100,ngram_range=(1, 2)),\n",
    "                            model='lsa',num_topics=10)\n",
    "allbreed_topics_tfidf_lsa = allbreed_topics.get_topics()"
   ]
  },
  {
   "cell_type": "code",
   "execution_count": 582,
   "metadata": {
    "ExecuteTime": {
     "end_time": "2020-11-12T19:09:44.113374Z",
     "start_time": "2020-11-12T19:09:26.173041Z"
    }
   },
   "outputs": [
    {
     "name": "stderr",
     "output_type": "stream",
     "text": [
      "/Users/labbot/opt/anaconda3/lib/python3.8/site-packages/sklearn/feature_extraction/text.py:383: UserWarning: Your stop_words may be inconsistent with your preprocessing. Tokenizing the stop words generated tokens ['ll', 've'] not in stop_words.\n",
      "  warnings.warn('Your stop_words may be inconsistent with '\n"
     ]
    },
    {
     "name": "stdout",
     "output_type": "stream",
     "text": [
      "\n",
      "Topic  0\n",
      "animal, bad, work, tell, bite, play, attack, aggressive, cat, pet, mean, small, park, big, mix\n",
      "\n",
      "Topic  1\n",
      "hope, heart, beautiful, feel, sweet, friend, hug, baby, hard, long, pain, family, rest, wish, soon\n",
      "\n",
      "Topic  2\n",
      "food, vet, eat, feed, diet, help, weight, grain, allergy, chicken, free, raw, treat, start, grain free\n",
      "\n",
      "Topic  3\n",
      "toy, chew, destroy, ball, play, long, buy, black, bone, tooth, bite, treat, antler, hard, rope\n",
      "\n",
      "Topic  4\n",
      "breeder, health, rescue, reputable, test, litter, shelter, reputable breeder, breeding, parent, work, buy, home, vet, standard\n",
      "\n",
      "Topic  5\n",
      "cute, adorable, face, beautiful, big, baby, sweet, eye, handsome, gorgeous, great, cutie, head, bed, mix\n",
      "\n",
      "Topic  6\n",
      "crate, training, bed, work, sleep, train, home, leave, night, help, treat, house, start, door, outside\n",
      "\n",
      "Topic  7\n",
      "happy, happy happy, beautiful, sweet, great, home, rescue, handsome, smile, treat, adopt, shelter, glad, amazing, awesome\n",
      "\n",
      "Topic  8\n",
      "collar, walk, harness, leash, pull, training, work, prong, prong collar, train, treat, neck, reinforcement, trainer, positive\n",
      "\n",
      "Topic  9\n",
      "ear, tail, crop, vet, infection, dock, reason, cut, floppy, clean, crop ear, long, ear infection, stand, ear crop\n"
     ]
    }
   ],
   "source": [
    "allbreed_topics = topic_model(data=corpus,\n",
    "                             vectorizer=CountVectorizer(stop_words=stop_words,min_df=10,ngram_range=(1, 2)),\n",
    "                            model='nmf',num_topics=10)\n",
    "allbreed_topics_cv_nmf = allbreed_topics.get_topics()"
   ]
  },
  {
   "cell_type": "code",
   "execution_count": 583,
   "metadata": {
    "ExecuteTime": {
     "end_time": "2020-11-12T19:09:52.752911Z",
     "start_time": "2020-11-12T19:09:44.115597Z"
    }
   },
   "outputs": [
    {
     "name": "stderr",
     "output_type": "stream",
     "text": [
      "/Users/labbot/opt/anaconda3/lib/python3.8/site-packages/sklearn/feature_extraction/text.py:383: UserWarning: Your stop_words may be inconsistent with your preprocessing. Tokenizing the stop words generated tokens ['ll', 've'] not in stop_words.\n",
      "  warnings.warn('Your stop_words may be inconsistent with '\n"
     ]
    },
    {
     "name": "stdout",
     "output_type": "stream",
     "text": [
      "\n",
      "Topic  0\n",
      "great, work, big, home, long, play, walk, bed, treat, food, toy, help, hope, feel, vet\n",
      "\n",
      "Topic  1\n",
      "cute, pupper, baby, boi, soooo, sooo, cut, lil, precious, paw, damn, smile, woof, god, doggo\n",
      "\n",
      "Topic  2\n",
      "beautiful, gorgeous, eye, smile, coat, color, great, absolutely, baby, pupper, beauty, lovely, amazing, black, lady\n",
      "\n",
      "Topic  3\n",
      "happy, smile, cake, hope, pupper, boi, doggo, bday, gorgeous, wish, hat, today, great, th, turn\n",
      "\n",
      "Topic  4\n",
      "handsome, boi, gorgeous, man, great, guy, fella, pupper, doggo, woof, big, eye, looking, dapper, thanks\n",
      "\n",
      "Topic  5\n",
      "adorable, absolutely, precious, baby, smile, eye, cut, pupper, goodness, paw, grow, mix, congrat, gorgeous, perfect\n",
      "\n",
      "Topic  6\n",
      "sweet, baby, heart, pupper, hug, precious, smile, eye, kiss, boi, hope, angel, sweetheart, dream, sweetie\n",
      "\n",
      "Topic  7\n",
      "ear, gorgeous, floppy, big, grow, mix, stand, crop, flop, eye, paw, head, cut, bat, scratch\n",
      "\n",
      "Topic  8\n",
      "cutie, pie, eye, smile, precious, gorgeous, patootie, great, perfect, real, woof, goodness, boop, baby, congrat\n",
      "\n",
      "Topic  9\n",
      "face, gorgeous, eye, smile, precious, kiss, perfect, white, cut, snoot, resist, melt, sad, frosty, boop\n"
     ]
    }
   ],
   "source": [
    "allbreed_topics = topic_model(data=corpus,\n",
    "                             vectorizer=TfidfVectorizer(stop_words=stop_words,min_df=10,ngram_range=(1, 1)),\n",
    "                            model='nmf',num_topics=10)\n",
    "allbreed_topics_tfidf_nmf = allbreed_topics.get_topics()"
   ]
  },
  {
   "cell_type": "code",
   "execution_count": 584,
   "metadata": {
    "ExecuteTime": {
     "end_time": "2020-11-12T19:14:42.836335Z",
     "start_time": "2020-11-12T19:09:52.755369Z"
    }
   },
   "outputs": [
    {
     "name": "stderr",
     "output_type": "stream",
     "text": [
      "/Users/labbot/opt/anaconda3/lib/python3.8/site-packages/sklearn/feature_extraction/text.py:383: UserWarning: Your stop_words may be inconsistent with your preprocessing. Tokenizing the stop words generated tokens ['ll', 've'] not in stop_words.\n",
      "  warnings.warn('Your stop_words may be inconsistent with '\n"
     ]
    },
    {
     "name": "stdout",
     "output_type": "stream",
     "text": [
      "\n",
      "Topic  0\n",
      "beautiful, sweet, heart, great, eye, friend, face, hug, hope, gorgeous, baby, feel, amazing, happy, family\n",
      "\n",
      "Topic  1\n",
      "big, long, coat, black, hair, grow, color, fur, white, red, nail, brush, pound, small, short\n",
      "\n",
      "Topic  2\n",
      "vet, crate, hope, feel, poor, soon, help, surgery, home, leave, night, baby, work, start, door\n",
      "\n",
      "Topic  3\n",
      "cute, ear, adorable, face, baby, sweet, big, mix, eye, belly, beautiful, precious, cutie, smile, rub\n",
      "\n",
      "Topic  4\n",
      "water, tail, car, harness, cute, bath, buy, work, cool, hate, wear, nice, great, cold, fit\n",
      "\n",
      "Topic  5\n",
      "bed, sleep, cat, play, couch, bark, house, sit, big, ball, run, kid, cuddle, blanket, watch\n",
      "\n",
      "Topic  6\n",
      "happy, handsome, cute, cutie, great, boi, snow, smile, adorable, pupper, happy happy, face, congrat, woof, nice\n",
      "\n",
      "Topic  7\n",
      "work, walk, training, train, treat, play, leash, start, help, learn, collar, bite, home, long, teach\n",
      "\n",
      "Topic  8\n",
      "food, eat, toy, vet, feed, ball, treat, help, chew, chicken, allergy, bone, diet, skin, free\n",
      "\n",
      "Topic  9\n",
      "breeder, rescue, adopt, home, shelter, animal, care, mean, family, tell, mix, work, bad, pet, great\n"
     ]
    }
   ],
   "source": [
    "allbreed_topics = topic_model(data=corpus,\n",
    "                             vectorizer=CountVectorizer(stop_words=stop_words,min_df=10,ngram_range=(1, 2)),\n",
    "                            model='lda',num_topics=10)\n",
    "allbreed_topics_cv_lda = allbreed_topics.get_topics()"
   ]
  },
  {
   "cell_type": "code",
   "execution_count": 585,
   "metadata": {
    "ExecuteTime": {
     "end_time": "2020-11-12T19:17:56.350947Z",
     "start_time": "2020-11-12T19:14:42.838749Z"
    }
   },
   "outputs": [
    {
     "name": "stderr",
     "output_type": "stream",
     "text": [
      "/Users/labbot/opt/anaconda3/lib/python3.8/site-packages/sklearn/feature_extraction/text.py:383: UserWarning: Your stop_words may be inconsistent with your preprocessing. Tokenizing the stop words generated tokens ['ll', 've'] not in stop_words.\n",
      "  warnings.warn('Your stop_words may be inconsistent with '\n"
     ]
    },
    {
     "name": "stdout",
     "output_type": "stream",
     "text": [
      "\n",
      "Topic  0\n",
      "happy, handsome, rescue, home, adopt, heart, happy happy, beautiful, hope, shelter, great, sweet, foster, family, work\n",
      "\n",
      "Topic  1\n",
      "ear, cute, eye, mix, perfect, awesome, adorable, snoot, snuggle, derp, twin, floppy, beautiful, big, funny\n",
      "\n",
      "Topic  2\n",
      "bed, sleep, boi, blanket, couch, sploot, precious, pillow, cat, hair, long, cute, night, friend, lay\n",
      "\n",
      "Topic  3\n",
      "gorgeous, beautiful, nice, cute, looking, woof, great, adorable, sweetie, black, majestic, handsome, eye, tongue, paw\n",
      "\n",
      "Topic  4\n",
      "cute, smile, baby, happy, hope, poor, feel, great, hug, face, cake, beautiful, wish, rest, soon\n",
      "\n",
      "Topic  5\n",
      "face, cute, belly, ball, rub, big, blep, belly rub, handsome, cool, head, adorable, doggo, fluffy, throw\n",
      "\n",
      "Topic  6\n",
      "cutie, breeder, nail, mix, mean, pie, bad, cute, cutie pie, parent, actually, meet, great, female, definitely\n",
      "\n",
      "Topic  7\n",
      "adorable, great, cute, nap, car, fun, collar, seat, cuteness, welcome, harness, congratulation, ride, costume, awww\n",
      "\n",
      "Topic  8\n",
      "food, work, toy, play, walk, vet, eat, treat, help, start, water, run, leave, long, training\n",
      "\n",
      "Topic  9\n",
      "beautiful, sweet, face, cute, baby, color, gorgeous, adorable, pupper, ear, tail, eye, boop, absolutely, sweet face\n"
     ]
    }
   ],
   "source": [
    "allbreed_topics = topic_model(data=corpus,\n",
    "                             vectorizer=TfidfVectorizer(stop_words=stop_words,min_df=10,ngram_range=(1, 2)),\n",
    "                            model='lda',num_topics=10)\n",
    "allbreed_topics_tfidf_lda = allbreed_topics.get_topics()"
   ]
  },
  {
   "cell_type": "markdown",
   "metadata": {},
   "source": [
    "## LDA Viz\n",
    "\n",
    "LDA with a Count Vectorizer seemed to work *okay* for my data, so might as well throw it into an LDAviz for some visual inspection."
   ]
  },
  {
   "cell_type": "code",
   "execution_count": 58,
   "metadata": {
    "ExecuteTime": {
     "end_time": "2020-11-06T23:02:58.297786Z",
     "start_time": "2020-11-06T23:02:57.811035Z"
    }
   },
   "outputs": [],
   "source": [
    "import pyLDAvis\n",
    "import pyLDAvis.sklearn"
   ]
  },
  {
   "cell_type": "code",
   "execution_count": 59,
   "metadata": {
    "ExecuteTime": {
     "end_time": "2020-11-06T23:10:05.998445Z",
     "start_time": "2020-11-06T23:04:30.904219Z"
    }
   },
   "outputs": [
    {
     "name": "stderr",
     "output_type": "stream",
     "text": [
      "/Users/labbot/opt/anaconda3/lib/python3.8/site-packages/sklearn/feature_extraction/text.py:383: UserWarning: Your stop_words may be inconsistent with your preprocessing. Tokenizing the stop words generated tokens ['ll', 've'] not in stop_words.\n",
      "  warnings.warn('Your stop_words may be inconsistent with '\n"
     ]
    }
   ],
   "source": [
    "# create pyLDAvis with countvectorizer and save to html file\n",
    "cv = CountVectorizer(stop_words=stop_words,min_df=10,ngram_range=(1, 2))\n",
    "dtm_cv = cv.fit_transform(df['spacy_pipe'])\n",
    "\n",
    "lda_cv = LatentDirichletAllocation(n_components=15, random_state=0)\n",
    "lda_cv.fit(dtm_cv)\n",
    "\n",
    "lda_cv_viz = pyLDAvis.sklearn.prepare(lda_cv, dtm_cv, cv) \n",
    "pyLDAvis.save_html(lda_cv_viz,'lda_cv_viz.html')"
   ]
  },
  {
   "cell_type": "markdown",
   "metadata": {},
   "source": [
    "# Final Topic Model\n",
    "Ultimately I think NMF with a count vectorizer is working best for my corpus, so I'll create a final version of that here.\n",
    "\n",
    "I'll also build a CorEx model with anchors, since I'm seeing some consistent themes crop up throughout my EDA, but they aren't reliably appearing with every iteration."
   ]
  },
  {
   "cell_type": "markdown",
   "metadata": {},
   "source": [
    "## Fit final Vectorizer"
   ]
  },
  {
   "cell_type": "code",
   "execution_count": 625,
   "metadata": {
    "ExecuteTime": {
     "end_time": "2020-11-12T20:13:17.761281Z",
     "start_time": "2020-11-12T20:13:10.123202Z"
    }
   },
   "outputs": [
    {
     "name": "stderr",
     "output_type": "stream",
     "text": [
      "/Users/labbot/opt/anaconda3/lib/python3.8/site-packages/sklearn/feature_extraction/text.py:383: UserWarning: Your stop_words may be inconsistent with your preprocessing. Tokenizing the stop words generated tokens ['ll', 've'] not in stop_words.\n",
      "  warnings.warn('Your stop_words may be inconsistent with '\n"
     ]
    },
    {
     "data": {
      "text/plain": [
       "(79068, 27725)"
      ]
     },
     "execution_count": 625,
     "metadata": {},
     "output_type": "execute_result"
    }
   ],
   "source": [
    "# instantiate the vectorizer\n",
    "vectorizer = CountVectorizer(stop_words=stop_words,min_df=10,ngram_range=(1, 2))\n",
    "\n",
    "# fit and transform on corpus, save doc-term matrix\n",
    "doc_word_matrix = vectorizer.fit_transform(corpus) \n",
    "\n",
    "# save the terms for future reference\n",
    "terms = vectorizer.get_feature_names()\n",
    "\n",
    "# check the shape of the doc-term matrix\n",
    "doc_word_matrix.shape"
   ]
  },
  {
   "cell_type": "markdown",
   "metadata": {},
   "source": [
    "## Fit final NMF model"
   ]
  },
  {
   "cell_type": "code",
   "execution_count": 642,
   "metadata": {
    "ExecuteTime": {
     "end_time": "2020-11-12T20:26:42.116144Z",
     "start_time": "2020-11-12T20:26:38.882541Z"
    }
   },
   "outputs": [
    {
     "data": {
      "text/html": [
       "<div>\n",
       "<style scoped>\n",
       "    .dataframe tbody tr th:only-of-type {\n",
       "        vertical-align: middle;\n",
       "    }\n",
       "\n",
       "    .dataframe tbody tr th {\n",
       "        vertical-align: top;\n",
       "    }\n",
       "\n",
       "    .dataframe thead th {\n",
       "        text-align: right;\n",
       "    }\n",
       "</style>\n",
       "<table border=\"1\" class=\"dataframe\">\n",
       "  <thead>\n",
       "    <tr style=\"text-align: right;\">\n",
       "      <th></th>\n",
       "      <th>Topic_0</th>\n",
       "      <th>Topic_1</th>\n",
       "      <th>Topic_2</th>\n",
       "      <th>Topic_3</th>\n",
       "      <th>Topic_4</th>\n",
       "      <th>Topic_5</th>\n",
       "      <th>Topic_6</th>\n",
       "      <th>Topic_7</th>\n",
       "    </tr>\n",
       "  </thead>\n",
       "  <tbody>\n",
       "    <tr>\n",
       "      <th>Comment_0</th>\n",
       "      <td>0.0000</td>\n",
       "      <td>0.0007</td>\n",
       "      <td>0.0000</td>\n",
       "      <td>0.0000</td>\n",
       "      <td>0.0000</td>\n",
       "      <td>0.0024</td>\n",
       "      <td>0.0</td>\n",
       "      <td>0.0011</td>\n",
       "    </tr>\n",
       "    <tr>\n",
       "      <th>Comment_1</th>\n",
       "      <td>0.0000</td>\n",
       "      <td>0.0134</td>\n",
       "      <td>0.0000</td>\n",
       "      <td>0.0000</td>\n",
       "      <td>0.0000</td>\n",
       "      <td>0.0035</td>\n",
       "      <td>0.0</td>\n",
       "      <td>0.0049</td>\n",
       "    </tr>\n",
       "    <tr>\n",
       "      <th>Comment_2</th>\n",
       "      <td>0.0000</td>\n",
       "      <td>0.0001</td>\n",
       "      <td>0.0000</td>\n",
       "      <td>0.0000</td>\n",
       "      <td>0.0000</td>\n",
       "      <td>0.0002</td>\n",
       "      <td>0.0</td>\n",
       "      <td>0.0000</td>\n",
       "    </tr>\n",
       "    <tr>\n",
       "      <th>Comment_3</th>\n",
       "      <td>0.0000</td>\n",
       "      <td>0.0000</td>\n",
       "      <td>0.0014</td>\n",
       "      <td>0.0023</td>\n",
       "      <td>0.0000</td>\n",
       "      <td>0.0134</td>\n",
       "      <td>0.0</td>\n",
       "      <td>0.0000</td>\n",
       "    </tr>\n",
       "    <tr>\n",
       "      <th>Comment_4</th>\n",
       "      <td>0.0005</td>\n",
       "      <td>0.0000</td>\n",
       "      <td>0.0000</td>\n",
       "      <td>0.0001</td>\n",
       "      <td>0.0003</td>\n",
       "      <td>0.0006</td>\n",
       "      <td>0.0</td>\n",
       "      <td>0.0000</td>\n",
       "    </tr>\n",
       "  </tbody>\n",
       "</table>\n",
       "</div>"
      ],
      "text/plain": [
       "           Topic_0  Topic_1  Topic_2  Topic_3  Topic_4  Topic_5  Topic_6  \\\n",
       "Comment_0   0.0000   0.0007   0.0000   0.0000   0.0000   0.0024      0.0   \n",
       "Comment_1   0.0000   0.0134   0.0000   0.0000   0.0000   0.0035      0.0   \n",
       "Comment_2   0.0000   0.0001   0.0000   0.0000   0.0000   0.0002      0.0   \n",
       "Comment_3   0.0000   0.0000   0.0014   0.0023   0.0000   0.0134      0.0   \n",
       "Comment_4   0.0005   0.0000   0.0000   0.0001   0.0003   0.0006      0.0   \n",
       "\n",
       "           Topic_7  \n",
       "Comment_0   0.0011  \n",
       "Comment_1   0.0049  \n",
       "Comment_2   0.0000  \n",
       "Comment_3   0.0000  \n",
       "Comment_4   0.0000  "
      ]
     },
     "execution_count": 642,
     "metadata": {},
     "output_type": "execute_result"
    }
   ],
   "source": [
    "# create and fit decomposition model\n",
    "nmf = NMF(n_components=8,random_state=7)\n",
    "\n",
    "# create the document-topic matrix\n",
    "doc_topic_matrix = nmf.fit_transform(doc_word_matrix)\n",
    "\n",
    "# create columns names\n",
    "topicnames = ['Topic_' + str(i) for i in range(nmf.n_components)]\n",
    "\n",
    "# index names\n",
    "docnames = ['Comment_' + str(i) for i in range(len(corpus))]\n",
    "\n",
    "# create a dataframe\n",
    "df_doc_topic = pd.DataFrame(np.round(doc_topic_matrix,4), columns=topicnames, index=docnames)\n",
    "\n",
    "df_doc_topic.head()"
   ]
  },
  {
   "cell_type": "markdown",
   "metadata": {},
   "source": [
    "## Corex"
   ]
  },
  {
   "cell_type": "code",
   "execution_count": 277,
   "metadata": {
    "ExecuteTime": {
     "end_time": "2020-11-10T02:44:44.485690Z",
     "start_time": "2020-11-10T02:44:44.399009Z"
    }
   },
   "outputs": [],
   "source": [
    "from corextopic import corextopic as ct"
   ]
  },
  {
   "cell_type": "code",
   "execution_count": 464,
   "metadata": {
    "ExecuteTime": {
     "end_time": "2020-11-11T22:44:52.392951Z",
     "start_time": "2020-11-11T22:44:29.805005Z"
    }
   },
   "outputs": [
    {
     "name": "stdout",
     "output_type": "stream",
     "text": [
      "Topic #1: vet, training, breeder, food, help, walk, crate, work, train, start, home, leash, rescue, run, bad\n",
      "Topic #2: small anti, anti anti, anti, charge mistakes, mistakes, phone charge\n",
      "Topic #3: efegjqb, efegjqb efegjqb, friend efegjqb, single friend\n",
      "Topic #4: doppelg, doppelg nger, nger\n",
      "Topic #5: \n",
      "Topic #6: \n",
      "Topic #7: \n"
     ]
    }
   ],
   "source": [
    "# What does Corex yield without any anchors?\n",
    "model_cx_unanchored = ct.Corex(n_hidden=7, seed=0)\n",
    "model_cx_unanchored = model_cx_unanchored.fit(\n",
    "    doc_word_matrix,\n",
    "    words=terms) # Tell the model how much it should rely on the anchors\n",
    "\n",
    "for i, topic_ngrams in enumerate(model_cx_unanchored.get_topics(n_words=15)):\n",
    "    topic_ngrams = [ngram[0] for ngram in topic_ngrams if ngram[1] > 0]\n",
    "    print(\"Topic #{}: {}\".format(i+1, \", \".join(topic_ngrams)))"
   ]
  },
  {
   "cell_type": "markdown",
   "metadata": {},
   "source": [
    "Yikes! Not great. Corex without anchors seems to pick up mostly reddit-related admin terms that haven't been popping up in the other models, so I haven't added them to the stopwords list yet.\n",
    "\n",
    "I'll still give it a shot with anchors, feeding it anchors that represent the most comprehensible topics from my iterations above."
   ]
  },
  {
   "cell_type": "code",
   "execution_count": 465,
   "metadata": {
    "ExecuteTime": {
     "end_time": "2020-11-11T22:45:12.713872Z",
     "start_time": "2020-11-11T22:44:52.396142Z"
    }
   },
   "outputs": [
    {
     "name": "stdout",
     "output_type": "stream",
     "text": [
      "Topic #1: beautiful, handsome, gorgeous, cute, beautiful beautiful, handsome boi, handsome handsome, gorgeous beautiful, absolutely gorgeous, beautiful gorgeous, beautiful handsome, beautiful eye, handsome fella, handsome beautiful, beautiful smile\n",
      "Topic #2: happy, happy happy, cake, happy cake, happy beautiful, happy handsome, beautiful happy, happy sweet, cute happy, happy face, happy cutie, handsome happy, happy bday, bday, smile happy\n",
      "Topic #3: rescue, adopt, shelter, foster, memory, heart, peace, hug, condolence, rest peace, adoption, forever, rest, friend, sweet\n",
      "Topic #4: breeder, reputable, reputable breeder, health, breeding, mill, testing, litter, backyard breeder, website, health testing, club, responsible breeder, genetic, standard\n",
      "Topic #5: treat, training, toy, work, destroy, treat treat, ball, chewer, hold treat, toy destroy, rope, squeaker, tennis, destroy toy, nylabone\n",
      "Topic #6: food, vet, allergy, feed, eat, grain, diet, grain free, raw, chicken, skin, kibble, oil, switch, weight\n",
      "Topic #7: bad, aggressive, attack, walk, crate, train, help, start, leash, home, run, play, leave, trainer, learn\n",
      "Topic #8: sleep, blanket, bed, pillow, sleep bed, night, bed sleep, sleep sleep, couch, sleep floor, sleep night, cute sleep, cover, bed blanket, blanket bed\n"
     ]
    }
   ],
   "source": [
    "# Anchors designed to nudge the model towards specific topics\n",
    "anchors = [\n",
    "    [\"beautiful\",\"gorgeous\",\"cute\",\"handsome\"],\n",
    "    [\"happy\"],\n",
    "    [\"rescue\",\"adopt\",\"shelter\"],\n",
    "    [\"breeder\"],\n",
    "    [\"work\", \"training\",\"treat\"],\n",
    "    [\"food\", \"vet\",\"allergy\"],\n",
    "    [\"aggressive\", \"bad\",\"attack\"],\n",
    "    [\"blanket\", \"sleep\"]\n",
    "]\n",
    "anchors = [\n",
    "    [a for a in topic if a in terms]\n",
    "    for topic in anchors\n",
    "]\n",
    "\n",
    "model = ct.Corex(n_hidden=8, seed=3)\n",
    "model = model.fit(\n",
    "    doc_word_matrix,\n",
    "    words=terms,\n",
    "    anchors=anchors, # Pass the anchors in here\n",
    "    anchor_strength=4) # Tell the model how much it should rely on the anchors\n",
    "\n",
    "for i, topic_ngrams in enumerate(model.get_topics(n_words=15)):\n",
    "    topic_ngrams = [ngram[0] for ngram in topic_ngrams if ngram[1] > 0]\n",
    "    print(\"Topic #{}: {}\".format(i+1, \", \".join(topic_ngrams)))"
   ]
  },
  {
   "cell_type": "code",
   "execution_count": 378,
   "metadata": {
    "ExecuteTime": {
     "end_time": "2020-11-10T06:15:11.100097Z",
     "start_time": "2020-11-10T06:15:11.056304Z"
    }
   },
   "outputs": [
    {
     "name": "stdout",
     "output_type": "stream",
     "text": [
      "(79068, 8)\n"
     ]
    }
   ],
   "source": [
    "print(model.p_y_given_x.shape) # n_docs x k_topics\n"
   ]
  },
  {
   "cell_type": "markdown",
   "metadata": {},
   "source": [
    "CorEx is a discriminative model, whereas LDA is a generative model. This means that while LDA outputs a probability distribution over each document, CorEx instead estimates the probability a document belongs to a topic given that document's words. As a result, the probabilities across topics for a given document do not have to add up to 1. [Source](https://notebook.community/gregversteeg/corex_topic/corextopic/example/corex_topic_example)"
   ]
  },
  {
   "cell_type": "code",
   "execution_count": 428,
   "metadata": {
    "ExecuteTime": {
     "end_time": "2020-11-10T18:02:38.565690Z",
     "start_time": "2020-11-10T18:02:38.519884Z"
    }
   },
   "outputs": [],
   "source": [
    "# estimated probabilities of topics for each document\n",
    "corex_doc_topic = model.labels"
   ]
  },
  {
   "cell_type": "code",
   "execution_count": 429,
   "metadata": {
    "ExecuteTime": {
     "end_time": "2020-11-10T18:02:38.683045Z",
     "start_time": "2020-11-10T18:02:38.567579Z"
    }
   },
   "outputs": [
    {
     "data": {
      "text/html": [
       "<div>\n",
       "<style scoped>\n",
       "    .dataframe tbody tr th:only-of-type {\n",
       "        vertical-align: middle;\n",
       "    }\n",
       "\n",
       "    .dataframe tbody tr th {\n",
       "        vertical-align: top;\n",
       "    }\n",
       "\n",
       "    .dataframe thead th {\n",
       "        text-align: right;\n",
       "    }\n",
       "</style>\n",
       "<table border=\"1\" class=\"dataframe\">\n",
       "  <thead>\n",
       "    <tr style=\"text-align: right;\">\n",
       "      <th></th>\n",
       "      <th>Topic_0</th>\n",
       "      <th>Topic_1</th>\n",
       "      <th>Topic_2</th>\n",
       "      <th>Topic_3</th>\n",
       "      <th>Topic_4</th>\n",
       "      <th>Topic_5</th>\n",
       "      <th>Topic_6</th>\n",
       "      <th>Topic_7</th>\n",
       "    </tr>\n",
       "  </thead>\n",
       "  <tbody>\n",
       "    <tr>\n",
       "      <th>Comment_0</th>\n",
       "      <td>0.0</td>\n",
       "      <td>0.0</td>\n",
       "      <td>0.0</td>\n",
       "      <td>0.0</td>\n",
       "      <td>0.0</td>\n",
       "      <td>0.0</td>\n",
       "      <td>0.0</td>\n",
       "      <td>0.0</td>\n",
       "    </tr>\n",
       "    <tr>\n",
       "      <th>Comment_1</th>\n",
       "      <td>1.0</td>\n",
       "      <td>0.0</td>\n",
       "      <td>0.0</td>\n",
       "      <td>0.0</td>\n",
       "      <td>0.0</td>\n",
       "      <td>0.0</td>\n",
       "      <td>0.0</td>\n",
       "      <td>0.0</td>\n",
       "    </tr>\n",
       "    <tr>\n",
       "      <th>Comment_2</th>\n",
       "      <td>0.0</td>\n",
       "      <td>0.0</td>\n",
       "      <td>0.0</td>\n",
       "      <td>0.0</td>\n",
       "      <td>0.0</td>\n",
       "      <td>0.0</td>\n",
       "      <td>0.0</td>\n",
       "      <td>0.0</td>\n",
       "    </tr>\n",
       "    <tr>\n",
       "      <th>Comment_3</th>\n",
       "      <td>0.0</td>\n",
       "      <td>0.0</td>\n",
       "      <td>0.0</td>\n",
       "      <td>0.0</td>\n",
       "      <td>0.0</td>\n",
       "      <td>0.0</td>\n",
       "      <td>0.0</td>\n",
       "      <td>0.0</td>\n",
       "    </tr>\n",
       "    <tr>\n",
       "      <th>Comment_4</th>\n",
       "      <td>0.0</td>\n",
       "      <td>0.0</td>\n",
       "      <td>0.0</td>\n",
       "      <td>0.0</td>\n",
       "      <td>0.0</td>\n",
       "      <td>0.0</td>\n",
       "      <td>0.0</td>\n",
       "      <td>0.0</td>\n",
       "    </tr>\n",
       "    <tr>\n",
       "      <th>Comment_5</th>\n",
       "      <td>0.0</td>\n",
       "      <td>0.0</td>\n",
       "      <td>0.0</td>\n",
       "      <td>0.0</td>\n",
       "      <td>0.0</td>\n",
       "      <td>0.0</td>\n",
       "      <td>0.0</td>\n",
       "      <td>0.0</td>\n",
       "    </tr>\n",
       "    <tr>\n",
       "      <th>Comment_6</th>\n",
       "      <td>0.0</td>\n",
       "      <td>0.0</td>\n",
       "      <td>0.0</td>\n",
       "      <td>0.0</td>\n",
       "      <td>0.0</td>\n",
       "      <td>0.0</td>\n",
       "      <td>0.0</td>\n",
       "      <td>0.0</td>\n",
       "    </tr>\n",
       "    <tr>\n",
       "      <th>Comment_7</th>\n",
       "      <td>0.0</td>\n",
       "      <td>0.0</td>\n",
       "      <td>0.0</td>\n",
       "      <td>0.0</td>\n",
       "      <td>0.0</td>\n",
       "      <td>0.0</td>\n",
       "      <td>0.0</td>\n",
       "      <td>1.0</td>\n",
       "    </tr>\n",
       "    <tr>\n",
       "      <th>Comment_8</th>\n",
       "      <td>0.0</td>\n",
       "      <td>0.0</td>\n",
       "      <td>0.0</td>\n",
       "      <td>0.0</td>\n",
       "      <td>0.0</td>\n",
       "      <td>0.0</td>\n",
       "      <td>0.0</td>\n",
       "      <td>0.0</td>\n",
       "    </tr>\n",
       "    <tr>\n",
       "      <th>Comment_9</th>\n",
       "      <td>0.0</td>\n",
       "      <td>0.0</td>\n",
       "      <td>0.0</td>\n",
       "      <td>0.0</td>\n",
       "      <td>0.0</td>\n",
       "      <td>0.0</td>\n",
       "      <td>0.0</td>\n",
       "      <td>0.0</td>\n",
       "    </tr>\n",
       "  </tbody>\n",
       "</table>\n",
       "</div>"
      ],
      "text/plain": [
       "           Topic_0  Topic_1  Topic_2  Topic_3  Topic_4  Topic_5  Topic_6  \\\n",
       "Comment_0      0.0      0.0      0.0      0.0      0.0      0.0      0.0   \n",
       "Comment_1      1.0      0.0      0.0      0.0      0.0      0.0      0.0   \n",
       "Comment_2      0.0      0.0      0.0      0.0      0.0      0.0      0.0   \n",
       "Comment_3      0.0      0.0      0.0      0.0      0.0      0.0      0.0   \n",
       "Comment_4      0.0      0.0      0.0      0.0      0.0      0.0      0.0   \n",
       "Comment_5      0.0      0.0      0.0      0.0      0.0      0.0      0.0   \n",
       "Comment_6      0.0      0.0      0.0      0.0      0.0      0.0      0.0   \n",
       "Comment_7      0.0      0.0      0.0      0.0      0.0      0.0      0.0   \n",
       "Comment_8      0.0      0.0      0.0      0.0      0.0      0.0      0.0   \n",
       "Comment_9      0.0      0.0      0.0      0.0      0.0      0.0      0.0   \n",
       "\n",
       "           Topic_7  \n",
       "Comment_0      0.0  \n",
       "Comment_1      0.0  \n",
       "Comment_2      0.0  \n",
       "Comment_3      0.0  \n",
       "Comment_4      0.0  \n",
       "Comment_5      0.0  \n",
       "Comment_6      0.0  \n",
       "Comment_7      1.0  \n",
       "Comment_8      0.0  \n",
       "Comment_9      0.0  "
      ]
     },
     "execution_count": 429,
     "metadata": {},
     "output_type": "execute_result"
    }
   ],
   "source": [
    "# create columns names\n",
    "topicnames = ['Topic_' + str(i) for i in range(model.n_hidden)]\n",
    "\n",
    "# index names\n",
    "docnames = ['Comment_' + str(i) for i in range(len(corpus))]\n",
    "\n",
    "# create a dataframe\n",
    "df_corex_doc_topic = pd.DataFrame(np.round(corex_doc_topic), columns=topicnames, index=docnames)\n",
    "\n",
    "df_corex_doc_topic.head(10)"
   ]
  },
  {
   "cell_type": "markdown",
   "metadata": {
    "heading_collapsed": true
   },
   "source": [
    "### Corex Total Correlation"
   ]
  },
  {
   "cell_type": "code",
   "execution_count": 430,
   "metadata": {
    "ExecuteTime": {
     "end_time": "2020-11-10T18:02:38.730578Z",
     "start_time": "2020-11-10T18:02:38.684977Z"
    },
    "hidden": true
   },
   "outputs": [
    {
     "name": "stdout",
     "output_type": "stream",
     "text": [
      "0.6137609431327606\n"
     ]
    }
   ],
   "source": [
    "# print the overall total correlation for the topic model\n",
    "print(model.tc)"
   ]
  },
  {
   "cell_type": "code",
   "execution_count": 431,
   "metadata": {
    "ExecuteTime": {
     "end_time": "2020-11-10T18:02:38.929347Z",
     "start_time": "2020-11-10T18:02:38.732037Z"
    },
    "hidden": true,
    "scrolled": true
   },
   "outputs": [
    {
     "data": {
      "image/png": "[encoded data removed]",
      "text/plain": [
       "<Figure size 720x360 with 1 Axes>"
      ]
     },
     "metadata": {
      "needs_background": "light"
     },
     "output_type": "display_data"
    }
   ],
   "source": [
    "plt.figure(figsize=(10,5))\n",
    "plt.bar(range(model.tcs.shape[0]), model.tcs, color='#4e79a7', width=0.5)\n",
    "plt.xlabel('Topic', fontsize=16)\n",
    "plt.ylabel('Total Correlation (nats)', fontsize=16);"
   ]
  },
  {
   "cell_type": "markdown",
   "metadata": {},
   "source": [
    "# Topic Interpretation"
   ]
  },
  {
   "cell_type": "markdown",
   "metadata": {},
   "source": [
    "## Topic keywords"
   ]
  },
  {
   "cell_type": "code",
   "execution_count": 643,
   "metadata": {
    "ExecuteTime": {
     "end_time": "2020-11-12T20:26:52.744096Z",
     "start_time": "2020-11-12T20:26:52.684123Z"
    }
   },
   "outputs": [],
   "source": [
    "# Show top n keywords for each topic\n",
    "def show_topics(vectorizer=vectorizer, lda_model=lda, n_words=20):\n",
    "    keywords = np.array(vectorizer.get_feature_names())\n",
    "    topic_keywords = []\n",
    "    for topic_weights in lda_model.components_:\n",
    "        top_keyword_locs = (-topic_weights).argsort()[:n_words]\n",
    "        topic_keywords.append(keywords.take(top_keyword_locs))\n",
    "    return topic_keywords"
   ]
  },
  {
   "cell_type": "code",
   "execution_count": 645,
   "metadata": {
    "ExecuteTime": {
     "end_time": "2020-11-12T20:27:05.016266Z",
     "start_time": "2020-11-12T20:27:04.918074Z"
    }
   },
   "outputs": [
    {
     "data": {
      "text/plain": [
       "[array(['work', 'walk', 'training', 'train', 'collar', 'leash', 'play',\n",
       "        'bad', 'start', 'bite', 'help', 'treat', 'tell', 'park', 'pull'],\n",
       "       dtype='<U29'),\n",
       " array(['hope', 'beautiful', 'heart', 'sweet', 'feel', 'friend', 'baby',\n",
       "        'hug', 'hard', 'family', 'long', 'pain', 'home', 'wish', 'rest'],\n",
       "       dtype='<U29'),\n",
       " array(['food', 'vet', 'eat', 'feed', 'help', 'diet', 'weight', 'allergy',\n",
       "        'grain', 'chicken', 'free', 'raw', 'treat', 'start', 'grain free'],\n",
       "       dtype='<U29'),\n",
       " array(['toy', 'chew', 'destroy', 'ball', 'play', 'long', 'buy', 'black',\n",
       "        'bone', 'tooth', 'bite', 'treat', 'antler', 'hard', 'rope'],\n",
       "       dtype='<U29'),\n",
       " array(['breeder', 'rescue', 'shelter', 'health', 'home', 'adopt',\n",
       "        'reputable', 'test', 'litter', 'parent', 'vet', 'breeding',\n",
       "        'reputable breeder', 'work', 'buy'], dtype='<U29'),\n",
       " array(['cute', 'ear', 'adorable', 'big', 'face', 'tail', 'baby',\n",
       "        'beautiful', 'mix', 'eye', 'sweet', 'head', 'tell', 'yeah',\n",
       "        'handsome'], dtype='<U29'),\n",
       " array(['crate', 'bed', 'sleep', 'home', 'night', 'leave', 'work', 'house',\n",
       "        'training', 'door', 'train', 'outside', 'room', 'help', 'start'],\n",
       "       dtype='<U29'),\n",
       " array(['happy', 'beautiful', 'happy happy', 'sweet', 'great', 'handsome',\n",
       "        'smile', 'home', 'rescue', 'treat', 'face', 'amazing', 'adopt',\n",
       "        'glad', 'awesome'], dtype='<U29')]"
      ]
     },
     "execution_count": 645,
     "metadata": {},
     "output_type": "execute_result"
    }
   ],
   "source": [
    "topic_keywords = show_topics(vectorizer, nmf, 15)\n",
    "topic_keywords"
   ]
  },
  {
   "cell_type": "markdown",
   "metadata": {},
   "source": [
    "## Paradigmatic Docs"
   ]
  },
  {
   "cell_type": "code",
   "execution_count": 646,
   "metadata": {
    "ExecuteTime": {
     "end_time": "2020-11-12T20:28:28.569136Z",
     "start_time": "2020-11-12T20:28:28.102209Z"
    }
   },
   "outputs": [
    {
     "data": {
      "text/html": [
       "<div>\n",
       "<style scoped>\n",
       "    .dataframe tbody tr th:only-of-type {\n",
       "        vertical-align: middle;\n",
       "    }\n",
       "\n",
       "    .dataframe tbody tr th {\n",
       "        vertical-align: top;\n",
       "    }\n",
       "\n",
       "    .dataframe thead th {\n",
       "        text-align: right;\n",
       "    }\n",
       "</style>\n",
       "<table border=\"1\" class=\"dataframe\">\n",
       "  <thead>\n",
       "    <tr style=\"text-align: right;\">\n",
       "      <th></th>\n",
       "      <th>Topic_0</th>\n",
       "      <th>Topic_1</th>\n",
       "      <th>Topic_2</th>\n",
       "      <th>Topic_3</th>\n",
       "      <th>Topic_4</th>\n",
       "      <th>Topic_5</th>\n",
       "      <th>Topic_6</th>\n",
       "      <th>Topic_7</th>\n",
       "      <th>orig_comments</th>\n",
       "    </tr>\n",
       "  </thead>\n",
       "  <tbody>\n",
       "    <tr>\n",
       "      <th>Comment_0</th>\n",
       "      <td>0.0000</td>\n",
       "      <td>0.0007</td>\n",
       "      <td>0.0000</td>\n",
       "      <td>0.0000</td>\n",
       "      <td>0.0000</td>\n",
       "      <td>0.0024</td>\n",
       "      <td>0.0000</td>\n",
       "      <td>0.0011</td>\n",
       "      <td>What's the new pupper's name? Utah</td>\n",
       "    </tr>\n",
       "    <tr>\n",
       "      <th>Comment_1</th>\n",
       "      <td>0.0000</td>\n",
       "      <td>0.0134</td>\n",
       "      <td>0.0000</td>\n",
       "      <td>0.0000</td>\n",
       "      <td>0.0000</td>\n",
       "      <td>0.0035</td>\n",
       "      <td>0.0000</td>\n",
       "      <td>0.0049</td>\n",
       "      <td>Dude, she's beautiful!</td>\n",
       "    </tr>\n",
       "    <tr>\n",
       "      <th>Comment_2</th>\n",
       "      <td>0.0000</td>\n",
       "      <td>0.0001</td>\n",
       "      <td>0.0000</td>\n",
       "      <td>0.0000</td>\n",
       "      <td>0.0000</td>\n",
       "      <td>0.0002</td>\n",
       "      <td>0.0000</td>\n",
       "      <td>0.0000</td>\n",
       "      <td>Wow. I would make that into a tattoo ����</td>\n",
       "    </tr>\n",
       "    <tr>\n",
       "      <th>Comment_3</th>\n",
       "      <td>0.0000</td>\n",
       "      <td>0.0000</td>\n",
       "      <td>0.0014</td>\n",
       "      <td>0.0023</td>\n",
       "      <td>0.0000</td>\n",
       "      <td>0.0134</td>\n",
       "      <td>0.0000</td>\n",
       "      <td>0.0000</td>\n",
       "      <td>A big puppy hah</td>\n",
       "    </tr>\n",
       "    <tr>\n",
       "      <th>Comment_4</th>\n",
       "      <td>0.0005</td>\n",
       "      <td>0.0000</td>\n",
       "      <td>0.0000</td>\n",
       "      <td>0.0001</td>\n",
       "      <td>0.0003</td>\n",
       "      <td>0.0006</td>\n",
       "      <td>0.0000</td>\n",
       "      <td>0.0000</td>\n",
       "      <td>Fair enough. Perish Sorry thought you someone ...</td>\n",
       "    </tr>\n",
       "    <tr>\n",
       "      <th>...</th>\n",
       "      <td>...</td>\n",
       "      <td>...</td>\n",
       "      <td>...</td>\n",
       "      <td>...</td>\n",
       "      <td>...</td>\n",
       "      <td>...</td>\n",
       "      <td>...</td>\n",
       "      <td>...</td>\n",
       "      <td>...</td>\n",
       "    </tr>\n",
       "    <tr>\n",
       "      <th>Comment_79063</th>\n",
       "      <td>0.0069</td>\n",
       "      <td>0.0215</td>\n",
       "      <td>0.0004</td>\n",
       "      <td>0.0000</td>\n",
       "      <td>0.0026</td>\n",
       "      <td>0.0012</td>\n",
       "      <td>0.0000</td>\n",
       "      <td>0.0000</td>\n",
       "      <td>Yes! If you don't mind telling a bit more...bu...</td>\n",
       "    </tr>\n",
       "    <tr>\n",
       "      <th>Comment_79064</th>\n",
       "      <td>0.0000</td>\n",
       "      <td>0.0000</td>\n",
       "      <td>0.0000</td>\n",
       "      <td>0.0000</td>\n",
       "      <td>0.0000</td>\n",
       "      <td>0.0000</td>\n",
       "      <td>0.0000</td>\n",
       "      <td>0.0583</td>\n",
       "      <td>That is the CONE OF HEALTH!! So happy for you ...</td>\n",
       "    </tr>\n",
       "    <tr>\n",
       "      <th>Comment_79065</th>\n",
       "      <td>0.0000</td>\n",
       "      <td>0.0000</td>\n",
       "      <td>0.0000</td>\n",
       "      <td>0.0000</td>\n",
       "      <td>0.0000</td>\n",
       "      <td>0.0000</td>\n",
       "      <td>0.0000</td>\n",
       "      <td>0.0000</td>\n",
       "      <td>Aww</td>\n",
       "    </tr>\n",
       "    <tr>\n",
       "      <th>Comment_79066</th>\n",
       "      <td>0.0008</td>\n",
       "      <td>0.0001</td>\n",
       "      <td>0.0002</td>\n",
       "      <td>0.0000</td>\n",
       "      <td>0.0000</td>\n",
       "      <td>0.0005</td>\n",
       "      <td>0.0015</td>\n",
       "      <td>0.0000</td>\n",
       "      <td>Nuggets Mine was called \"puppy\" for the first ...</td>\n",
       "    </tr>\n",
       "    <tr>\n",
       "      <th>Comment_79067</th>\n",
       "      <td>0.0000</td>\n",
       "      <td>0.0127</td>\n",
       "      <td>0.0000</td>\n",
       "      <td>0.0000</td>\n",
       "      <td>0.0000</td>\n",
       "      <td>0.0154</td>\n",
       "      <td>0.0000</td>\n",
       "      <td>0.0059</td>\n",
       "      <td>Sweet face!!!</td>\n",
       "    </tr>\n",
       "  </tbody>\n",
       "</table>\n",
       "<p>79068 rows × 9 columns</p>\n",
       "</div>"
      ],
      "text/plain": [
       "               Topic_0  Topic_1  Topic_2  Topic_3  Topic_4  Topic_5  Topic_6  \\\n",
       "Comment_0       0.0000   0.0007   0.0000   0.0000   0.0000   0.0024   0.0000   \n",
       "Comment_1       0.0000   0.0134   0.0000   0.0000   0.0000   0.0035   0.0000   \n",
       "Comment_2       0.0000   0.0001   0.0000   0.0000   0.0000   0.0002   0.0000   \n",
       "Comment_3       0.0000   0.0000   0.0014   0.0023   0.0000   0.0134   0.0000   \n",
       "Comment_4       0.0005   0.0000   0.0000   0.0001   0.0003   0.0006   0.0000   \n",
       "...                ...      ...      ...      ...      ...      ...      ...   \n",
       "Comment_79063   0.0069   0.0215   0.0004   0.0000   0.0026   0.0012   0.0000   \n",
       "Comment_79064   0.0000   0.0000   0.0000   0.0000   0.0000   0.0000   0.0000   \n",
       "Comment_79065   0.0000   0.0000   0.0000   0.0000   0.0000   0.0000   0.0000   \n",
       "Comment_79066   0.0008   0.0001   0.0002   0.0000   0.0000   0.0005   0.0015   \n",
       "Comment_79067   0.0000   0.0127   0.0000   0.0000   0.0000   0.0154   0.0000   \n",
       "\n",
       "               Topic_7                                      orig_comments  \n",
       "Comment_0       0.0011                 What's the new pupper's name? Utah  \n",
       "Comment_1       0.0049                             Dude, she's beautiful!  \n",
       "Comment_2       0.0000          Wow. I would make that into a tattoo ����  \n",
       "Comment_3       0.0000                                    A big puppy hah  \n",
       "Comment_4       0.0000  Fair enough. Perish Sorry thought you someone ...  \n",
       "...                ...                                                ...  \n",
       "Comment_79063   0.0000  Yes! If you don't mind telling a bit more...bu...  \n",
       "Comment_79064   0.0583  That is the CONE OF HEALTH!! So happy for you ...  \n",
       "Comment_79065   0.0000                                                Aww  \n",
       "Comment_79066   0.0000  Nuggets Mine was called \"puppy\" for the first ...  \n",
       "Comment_79067   0.0059                                      Sweet face!!!  \n",
       "\n",
       "[79068 rows x 9 columns]"
      ]
     },
     "execution_count": 646,
     "metadata": {},
     "output_type": "execute_result"
    }
   ],
   "source": [
    "# add original comments text back into doc_topic matrix\n",
    "df_doc_topic['orig_comments'] = df['body'].values\n",
    "df_doc_topic"
   ]
  },
  {
   "cell_type": "code",
   "execution_count": 647,
   "metadata": {
    "ExecuteTime": {
     "end_time": "2020-11-12T20:28:29.263672Z",
     "start_time": "2020-11-12T20:28:29.212482Z"
    }
   },
   "outputs": [],
   "source": [
    "def top_docs(df_doc_topic, topic, n_docs):\n",
    "    return (df_doc_topic\n",
    "            .sort_values(by=topic, ascending=False)\n",
    "            .head(n_docs)['orig_comments']\n",
    "            .values)"
   ]
  },
  {
   "cell_type": "code",
   "execution_count": 740,
   "metadata": {
    "ExecuteTime": {
     "end_time": "2020-11-16T03:00:20.211849Z",
     "start_time": "2020-11-16T03:00:18.462404Z"
    }
   },
   "outputs": [
    {
     "data": {
      "text/plain": [
       "array(['Thanks! I wish I got it in my head earlier that crating them is not abuse and they enjoy it (if done right). Be prepared to be frustrated. He’ll be a lot to handle but he’ll slowly but surely calm down and be the best dog ever. Excited for you! Take 10000 pictures a day when they are puppies, it flies by so fast! Remember that’s he’s a baby. He will need potty breaks and extra loving. Get a big bottle of enzyme cleaner for accidents, and a large supply of paper towels. \\n\\nYou have a best friend for life! You’ll be a great mommy! \\nPm me with any questions. ❤️�� I have this crate: https://www.amazon.com/dp/B000OX64P8/ref=cm_sw_r_cp_api_i_4Q2eDbX6EDW17\\n\\nIt’s big enough for your dog to fit into when he’s full grown. This crate has a divider, so you can section it off so your pup only has enough room to turn around and lay down in. This is supposed to keep them from going potty in it, because they typically won’t potty where they lay down. We used the crate for bedtime, and associated it with something positive. When our pup was little, she would get a small kong with a little bit of peanut butter inside. It made going to bed exciting for her because there was a great involved. I was also told that them licking the peanut butter from the kong can be a calming motion for them. \\n\\nBe prepared for your pup to wake you a few times in the night, just like a baby would, as he’s first adjusting. Mine would cry in the night and I would jump up and let her out because I wasn’t sure if it was a sad cry over missing her mom or a “I need to go potty” cry. That phase didn’t last long though. It may sound over the top, but when my puppy was little and I was trying to help her sleep at night, I used a classical music pandora station to try and calm her in the evenings when we would lay down. \\n\\nBy continuing with the crate at night, it really established a positive routine. By the time she was older, we would tell her that it was bedtime and she would run to her crate. Now that she is grown and can be trusted to have full reign of the house, we never close the door on the crate anymore. Nigga? He will bring you so much happiness. They are the goofiest pups. Congrats on your new baby. My moms golden loves water. If you have access to take him swimming, I bet he would love that. Sometimes at the last day of the season, public pools will have a \"Doggie Dip.\" Good to try out swimming since he\\'ll still be a pup. My moms golden has a life jacket and everything. Nah. I\\'m just very racist. Patten\\'s Natural Balance.  We have given our Golden the Lamb and Brown rice formula for years and she is in great health.   Had a very bad skin rash and allergy to Blue Buffalo.  Apparently too many ingredients in B.B. Your golden will want your attention all the time while growing up, and remember that he is going to be your fur-baby all the way to adulthood. There\\'ll be times you fight and you snap at him, but most of the time, it\\'s all love and memories.\\n\\nMy doggo had a routine from the start - even my parents had to live through it haha. She went outside for a certain time, slept in her crate throughout the night, ate her wet food at a certain time and she went on walks when I got home. I would also recommend that you find a local puppy class where he can be trained and socialized with other dogs while he’s young! You should join r/puppy101 ! :)\\n\\nWelcome to motherhood lol Enjoy him while he’s small &amp; take tons of pics because when he reaches his teenager stage, he’s gonna turn into a little teething monster out of *nowhere*. No one\\'s mentioned socialization yet, which is really important if you want a friendly, confident golden.  Check out the socialization checklist on the r/puppy101 wiki, it\\'s a good one.  The more different experiences your pup gets before 14 weeks, the better for his development.  Another resource I like to offer is [https://www.goldenretrieverforum.com/forum.php](https://www.goldenretrieverforum.com/forum.php)\\n\\nGR owners have been posting answers to all your coming questions for about 10 years; it\\'s a great knowledge database .\\n\\nAlso, The Puppy Primer by animal behaviorist and dog trainer, Patricia McConnell is a great book to have handy and if you get a chance to read it before pup comes home, even better.\\n\\nFinally, others have mentioned, but I\\'ll chime in: Goldens can be difficult puppies; they\\'re EXTREMELY mouthy which can be dangerous for them, and painful for you.  There will be times that you want to throw in the towel, but use the resources, come on reddit to vent and in less than a year, you\\'ll be so happy you did all the work. We taught my golden to knock when he wanted to come in and out of the house and it was the worse mistake we ever made because the motherfucker interpreted that lesson as \"If I punch the shit out of things I get food.\" So be careful with that. Or learn to knit. \\n\\nOr wear nothing but golden clothing. He’s a real beauty! Enjoy him and forgive him for being bitey and silly xx We tried grain free but went with Pedigree after a talk by a Vet Cardiologist. Keep your dog lean. Too many out of shape Goldens and challenge your golden through training and activities. Train your golden to ring the bell if he needs to go out. Also wait until he is two before neutering less downsides after that age. You want your golden to grow slow not fast so feed only what\\'s needed and suppliment with treats. Most likely two cups twice a day until you neuter the. Down to 1.5 twice a day. I would recommend getting a puppy obedience training class. I\\'ve never used one personally, but my friend took their German Shepherd to one and the dog was SO much better on a leash afterwards. Plus you usually get a cute little diploma. Patience. Reenforce positive behavior, and discourage bad behavior by redirecting to positive behavior. Let him sleep on the bed, love him every second. Take him with you anywhere you can. They never want to make you anything but happy, remember that. Mine is 10 months tomorrow!\\n\\nPro tips\\n- restrict their area\\n- they will go every 30-45 minutes in the beginning\\n-negative behavior for attention should be ignored\\n-positive behavior should always be reinforced.\\n- TAKE A MILLION PHOTOS WHILE THEYRE STILL PUPPY. Invest in a [Furminator](https://www.amazon.com/Furminator-Undercoat-Deshedding-Tool-Large/dp/B07MZMLZZ3).  I have three Goldens and it keeps the fur on the floor to manageable levels. After 38 years of dog ownership and 9 dogs, I have yet to see a dog starve himself when there\\'s edible dry dog food around. \\n\\nMy buddy claims that his bichon won\\'t eat dog food, and won\\'t eat ground beef - holds out for steak. He makes her buttered toast in the morning and buys her an individual pizza when the family\\'s eating something she won\\'t eat. We looked after the dog for a week once, and after a day and a half, she was eating the Canidae All Life Stages with my three.\\n\\n(Edited the name of the food) Give lots and lots of love and cuddles! Also they are such picky eaters so make sure to not buy food in surplus cause their food preference can change in a matter of 2 weeks. Mine loooves home made popsicles so find recipes online and give him a popsicle packed summer! I have this crate too, I love it. lol, what an awful troll My boy is 9 months. The time flies take pictures every day. Make time just to enjoy waching him do his own thing, let him be a puppy, its over very quickly.\\n\\nNow my teenage boi is my best pal ever Thank you! I plan to give him lots and lots of love. So should I get a crap ton of toys to make sure he doesn’t chew on things he’s not supposed to? Sleep train! I know it sounds crazy but we when got our boy at first we just had him in his crate at night downstairs when we went upstairs to bed. He cried all night and my husband was getting very frustrated. I read about sleep training and started it the next night. It took two nights of sleeping in the living room for him to be able to sleep (mostly) through the night. Sleep either on the couch or on the floor next to his crate, so if he wakes up in the middle of the night, he can see you. When we starts crying, don’t take him out of the crate (to avoid teaching a bad habit of crying whenever he wants something) but put your hand through the bars and gently talk to him to reassure him that he’s safe. He’ll get used to being in there and few more comfortable. Don’t get frustrated if it takes longer, all pups are different, we just got lucky with our boy. \\n\\nAnother thing was setting my alarm for every two hours during the night to get up and take him out, even if he is not indicating he needs to pee. They have tiny bladders and don’t understand how to “hold it” yet so encouraging them to go whenever you are outside is best and then slowly increase the time between trips while he learns better balladeer control. Always praise after going to the bathroom where he is supposed to so that he knows what he’s doing is good.\\n\\nKeep so many trainer treats (small, low cal treats) in hand because you want to train with positive reinforcement. \\n\\nCongratulations on your new baby!! Small electronics, remote controls, shoes and paper products like TP rolls, mail etc will all be devoured.  Goldens tend to eat first and ask questions later.  \\n\\nWear some long socks to get your smell on them.  Then make a knot out of them.  Cheap tug toy that he will love because it smells like you.  And you can just keep making new ones. My advice is to snuggle and hug and kiss the bejebbers out of this love bug! Be his friend for the rest of his life. My brother works from home and was home constantly with his golden as a puppy. He was diligent with watching him, and I swear he was house trained in 2 weeks. He’s a total angel in the house, never has accidents, and doesn’t chew. Congrats on your new best friend! I just wish I could teach mine how to put the toys back inside the bin after she’s done playing with them. Golden’s are definitely smart enough to learn such a task, I just haven’t put the time in, ha! Golden’s are super smart! When training, be consistent. And work with him daily. If not more. Congrats and love the hell out of him. They’re amazing dogs! Goldens are super sweet. So much so, the will totally sucker you into letting them have bad habits. My lil guy Franklin isn\\'t allowed to jump but loves to \"hug\". They are super trainable but this stuff will be more easily adjusted if addressed early. Also, lots of walks and don\\'t let them eat in dining or cooking areas. Thank you for the advice. His name is Cloud (: Named after the Final Fantasy character lol. Yah, Obedience School is something I said is a MUST since I do also have him listed as an emotional support animal. We do this. When they’re pups, we rotate toys. When they grow up a little (think:doggy teenage years), we allow them access to the toy bin where all the dog toys get stored. At first, it’s too overwhelming, but as they get older, it’s fun to watch them dig through their toy bin to find “that one toy” with which they want to play. My only piece of advice is this: Puppies are assholes. Funny. I live in Orange County...but the one in Florida ������ Sorry your puppy got parvo...that’s my biggest fear. ): He will drive you insane around the 4-5 month mark with teething and not listening. Have patience and the foresight to walk away instead of reacting in a negative way.\\n\\nHe wants to please you, but he doesn\\'t know all the house rules and you can\\'t expect him to off the bat. Iif he does something you don\\'t like, don\\'t punish him - show him what you *want* him to do instead.\\n\\nI highly recommend watching Zak George\\'s puppy playlist on YouTube or another clicker-training advocate Kikopup. I\\'m sure there are many more but these were the ones I learned from when I got mine in 2014.\\n\\n[Puppy tax](https://imgur.com/xL3F7Fg) Learn to do everything one handed,  he gets the other hand for belly rubs and ear scratches! Puppy Blues/Depression is real... Def take lots of puppy pix! They\\'ll grow out of that pup size within a few months :( I agree with a lot of what has been said: Crate train, take him out every hour and every few at night, rotate toys to keep him interested. \\n\\nI\\'d also add to start training the moment you bring him home. Teach him from day one what the routine is to go potty (we have a bell by the back door), or to sit before using an outside door (this teaches them not to run out). We also taught ours to sit before meal time and wait until our command \"free\" to get up and eat. This kept him from trying to get into the food bowl before we were finished measuring it out. Teach a bedtime routine (potty, crate, reward). A puppy that knows what to expect will be happier. List of things I lost from when I got him until about 2ish:\\nRay bans, two pairs of nice leather shoes, remote control, portable hard drive with all of my pics of from college, about $80 on the counter, some wood trim in the apartment that I had to pay for, several books, several dvd cases.  And I loved him still every day.  Soft toys you will want to see how they handle them as sometime they like to rip them and pull the stuffing out.  Take them swimming in a creek or something young and they will love it for life. Thank you!!!(: Sorry for your loss. Great idea on the insurance though! Thanks for the great advice. We have a 5 month old pup. Make sure to get them something to chew on. Ours loves to chew on carpet so we\\'ve had to keep her occupied. Stubborn little turd but she\\'s been the best so far. No matter what anyone claims, they absolutely *do not* retrieve gold. take soo many videos when he’s small I def plan to be the Insta dog mom ������ I’d recommend crate training and getting him accustomed to it like a teenager would be with their bedroom. Not punishment but like his own little area. I got super lucky with mine. Got her at 7 weeks. Had her sleep in my bed. She peed once in my room never on the bed. Its the dont soil your den instinct. When she would stir id take her out. She figured outside was the potty by 9/10 weeks and would let me know. Also helped a lot that i was working from home too, so we were together 24/7. Royal Canine for Golden Retriever puppies and adult You\\'ve probably gotten a lot of great advice so I\\'ll throw some personal ones in for ya. (Okay this ended up being a lot more than I thought so I\\'ll put a TLDR at the bottom).\\n\\nCrate train. I messed up on this and wish I would have gone about it better. Getting him in the crate is a hassle. Luckily I don\\'t need to do it much but still. It\\'s not punishment or anything. Took me a bit to understand they like the crate (as long as it fits them enough).\\n\\nWhile they\\'re young, play with their food as they eat. Take some out of the bowl. Pretend to eat it. Whatever. The same way with treats and toys. Will prevent food guarding and those aggressive behaviours you see sometimes when dogs have treats and people get too close to them.\\n\\nLike above, play with their paws, tail, ears, etc. Really helps with grooming as they get used to having their paws and such touched.\\n\\nAs far as grooming, I recently got the Hertzko Self Cleaning Slicker Brush. But anything with those fine brush tips works great for daily stuff. Weekly you can use a furminator, and monthly or bi-monthly give them a bath. Also a lint roller...\\n\\nOh! And hot spots/ear infections... I wish someone warned me about this. As I definitely freaked out my first time experiencing it. \\n\\nAs far as the ear stuff goes, ask your Vet what cleaning solution they recommend. I usually will clean mine\\'s ears once every two or so weeks. \\n\\nHot spots are a bit weirder as they can be caused by a bunch of different things. Though usually it\\'s during the summer and allergy related. Again, I\\'d ask your vet what to do but there\\'s anti-itch and cleaning liquids that are safe for your dog that I would use during summer-time and allergy season. Especially if they walk on hot asphalt I\\'d pay attention to their feet.\\n\\nSocialize! Preferably in a safe environment lol. Have them meet dogs and people of varying size and color and outfits. If you see dogs act strangely around different breeds of dogs and different kinds of people, it\\'s usually because they weren\\'t around enough varying types of people/other animals when they were young. Look for a puppy daycare if you can, or a dog park. Or if you have friends with dogs schedule playdates. Have them meet people of different sizes, ethnicities, with and without a hat on. Though Goldens tend to love everyone/everything so this one\\'s a bit easier lol.\\n\\nPatience. Puppies can be gross, frustrating, annoying, etc. I\\'ve cried before. But those moments are so worth it for an adorable, loving companion.\\n\\n(TL;DR) Crate train; play with food and treats/toys as they eat to prevent food guarding; touch paws, tails, ears, etc. to get them used to it; find good grooming tools for daily, weekly, and monthly grooming; be aware of ear infections and hot spots and how to treat/prevent them if you can; socialize them with varying breeds of animals and different kinds of people (size, ethnicity, with/without a hat, etc.), and lots of patience and love. Bad advice. Newbies will read this and think “ok, Purina Dog Chow...I’ve heard of that”. That stuff is shit and shouldn’t be fed to pets. \\n\\nLots of good brands as others have said, Eukanuba and taste of the wild(canadae?) are my choices. \\n\\nAlways good to ask your vet too. Make sure you avoid the grain free blends. Recent study just came out showing that the grain free foods, once thought toe the best, can lead to heart failure in dogs, with Goldens having the most instances of this. Talk to your vet about this. Goldens are still the best though! Lmao...this is also my biggest fear ������ I totally agree with this!!! I felt like I was taking a ton, like way too many at the time, but he got big in what felt like a week so I wish I had more teeny tiny baby pics of him! Seriously my only complaint of them, they grow up so fast �� Hell yes. Marshall’s (if you’re American) is my go-to. Tons of plushies, tug-of-war toys, &amp; those durable toys! \\n\\nTell him no &amp; redirect every time he goes for things he shouldn’t!! The best thing you can do is read a good puppy book. The art of raising a puppy by the monks of new skeet is a great book. We took our golden out every hour during the day and about every 3 hours at night for potty breaks for maybe a week and she potty trained super fast. Even if she didn’t indicate, we’d take her out anyways. I think she had a total of two accidents and I feel like those were on us and not her. \\n\\nMake sure you crate train too! It will make it much easier if you ever have to board him or take him to the vet\\n\\nThe puppy biting ends after the baby teeth fall out. For me, that was a long few months lol. I have never been a dog person but our golden baby has opened my eyes. She’s the absolute bees knees and now I want a whole golden gang\\n\\nCongrats!! \\n\\n Edit: typos\\n\\nDog tax: https://imgur.com/gallery/8Yrt1Fs \\nOur girl, Elinor Royal Canin Golden Retriever Puppy is one of the brands recommended by my breeder.  My boy did very well on it. Crate training is great. If you don’t he will wake you up whenever he wants. I second everything you said as I have done the same and have a wonderful golden named Rex. He’s an obedient, sweet boy. Have patience. He will chew things and not listen, he will be very hyper so play with him a lot, and he will love you unconditionally, love him back. Oh I plan too!!! Get a Roomba! Absolutely agree with this! My vet said that it leads to heart disease in Goldens :( If you have an iPhone. Go to settings then camera and in the video section set it to 60 FPS in the highest resolution. It’ll look better than higher resolution at 30 FPS. This works for any android too As a dog trainer, I like every thing about this post. If you’re from the Los Angeles or Orange County area lmk I have good dog park suggestions. \\n\\nRegardless do avoid parks/other areas with dogs until your pup has gotten all shots. I only took my pup to the front lawn and back and they still somehow got parvo �� Lots of walks and training early on.  Short little 3-5 minute snippets of training now as a puppy will pay dividends in just a few months!!  You could enroll in some local dog training or even just find what you like on youtube...I don\\'t think there is a \"perfect way,\" but if nothing else, just start some simple training now.  Congrats! Thank you for the link &amp; advice! How cute!!! To make crate training easier, get a floor fan to blow air on him. Golden’s fur can be thick and the breeze makes it easier for them to sleep, also the fan’s static noise hinders any outside noise that might wake them up. Eukanuba is a good brand for Goldens. Also the get in between pictures when they are like just growing. \\n\\nIf you have iPhone use the portrait mode for pictures. Have you thought of names for him?? My advice for you is to look into nearby obedience courses. It may be cheaper to train him on your own, but setting the groundwork sometimes makes it so much easier. This is great!  I agree on the crate training! Keep good humor, make sure he gets plenty of exercise, and remember you are pack leader! I don\\'t doubt that! Ou, also, don\\'t buy cheap poochie food. Did it once and never again. Wishing you many years of happiness and love. ❤ No matter how long you have with him, it will feel too short. Love the heck out of him. And make sure you always have a lint roller on hand. That’s good to hear! Thank you for your comment (: For grain free food - Royal Canin makes food specifically for Golden\\'s (and golden puppies), Purina Pro Plan has good puppy formulas also. Buy the BEST pet insurance you can afford and READ the policy so that you know what it covers.\\n\\nSTOP reading here if you don\\'t want the sad truth about goldens:\\n\\nGoldens have one of the highest rates of canine cancer, especially lymphoma (62-63%).\\n\\nThey are getting it at extremely young ages, like 2 years old!\\n\\nIt is extremely expensive to treat with chemo as we did. We had insurance that paid 90%.\\n\\nBut it bought her over a year. I\\'m sorry for the shitty post but you should know. I don’t have a lot of advice because I just got a Doberman puppy. The only thing I can say is give your puppy lots of attention, and owning one is a lot of work. Idk much about Goldens, but my Doberman chews a lot (probably teething from what I’ve heard). So get your golden a chew toy. Give him all the pets! I agree, but to a first time dog owner Purina is a well-known brand not Eukanuba. Mess with your dog\\'s food eating. The more obnoxious the better.  Don\\'t want food aggression as an adult. I am completely new to this. Any brands for Goldens? Purina pro plan Pick him up as much as you can while he’s still in his puppy stage. He’s going to be a big boy after 6 months or so. \\n\\nStart training him early. Includes potty training and teaching him how to sit. Be patient with him and remember, golden puppies love to chew on things. Mine destroyed my coffee table and a few pair of shoes. They later move onto socks. Congratulations! \\n\\nSince Goldens have a inborn desire to please their humans, the best way to train a Golden is to use encouragement and rewards. It works so much better than scolding and punishments. It also makes training sessions more of a game, and you and your new puppy can bond over happy times. Have fun! haha so close and so actually pretty dang far. thank you, she is fine now but it was a close call. enjoy being a new golden mom! \\n\\none last thing they\\'re the sweetest, but they can tear apart thong-sandals with a single bite so hide those in an elevated place. Happy cake day! What country do you live in? Seriously, like why? Nigga! I raise guide dog pups, so I have good teachers. We were given a few general idea that are powerful. First, we talk about dogs with good manners, not dogs that obey. It changes how you interact. In the same vein we talk about did with self control who make good decisions. Not getting it right. So you reward when they show the control or the decision, not when they complete the behavior.\\n\\nSo say your are training \"leave it\". You read when the dog starts to turn, decided to leave it.\\n\\nDecide what you want from a dog and work in that. For us calm is very important. So we keep rewarding calm behavior and trying to reward that self control. You may not need that (though it makes for a better companion.) We train our pups to be calm when we return, /r/masterreturns shows that lots of people wants excited out of control did. Makes sure to socialize him a lot. With people and dogs. Lots of dog parks. The puppy should learn from other dogs as well and can help with training. Golden’s love everything so shouldn’t be too hard. \\n\\nAnd don’t feed him name brand food. Lots of fillers and preservatives. Look at the ingredients and make sure the first few ingredients are meat, and no corn products. And grain free, because Golden’s are prone to heart problems! \\n\\nCongrats! Take notes on when accidents happen and establish a potty schedule. Get the pup in some classes soon to establish proper behaviors and training habits for your self. I work from home too with my golden. Be prepared for your productivity to dip becuase they are just too gorgeous and it is impossible to not snuggle them. Congratulations too! Some Purina is good. You just have to get the right kind. My golden eats purina pro plan focus: chicken and rice recipe. The breeders recommended it and he loves it. Walkies. Lots and lots of walkies. And definitely crate training. Socialize him early and often, with people and other dogs, it will help him adjust to all of the attention he will get because he’s so adorable. Congratulations!! Thank you! This was very helpful!!! Most dogs like their crates. Our golden for some reason hated it. She was much happier when we got rid of it. Luckily she knew what she should and shouldn\\'t chew. Generally speaking well known brands are better than the boutique fancy things out there. If this is regarding food, we like Acana or Orijen. If that’s too high for the budget (it’s $$$$), Taste of the Wild is good. We usually use a puppy-specific food forgot the first year or so to limit growth rate a little. Absolutely no legumes (any bean) or potatoes! I know a two year old golden who died of dilated cardiomyopathy. Some companies use beans as cheap filler in other to call themselves “grain free”.\\n\\nhttps://www.whole-dog-journal.com/food/dog_food/dcm-in-dogs-taurines-role-in-the-canine-diet/ I work from home too with my golden. Be prepared for your productivity to dip becuase they are just too gorgeous and it is impossible to not snuggle them. Congratulations too! Get as much sleep as you can now. Get a crate and toys and his food/food dishes ready. Figure out what your potty/feeding/sleep routine will be with pup now and establish it right away when he comes home (will help a TON with potty training, even though you\\'ll be taking him out all the time for the first few weeks, I erred on the side of taking my golden pup out every hour or so early on to get her used to pottying in the grass and to avoid accidents in the house). Remember puppies sleep a ton and enforced naps (to give you some time to yourself) will make him a better-behaved pup and save your sanity. And above all, enjoy him! He is precious and he looks like he loves you already. Congrats, my advice: Don\\'t call every hour on July 24th to see if they are back from the vet. Thank you. What brand do you recommend? I didn\\'t have a Goldie but I had a similarly eager and energetic pup who *loved* to chew things she wasn\\'t supposed to. Be super super diligent about keeping everything hidden you don\\'t want destroyed, and know going into this your nice serene house/apartment is going to see a *ton* of wear and tear. Shoes (this is a BIG one!), cables, pillows, blankets, prescription bottles (mine got ahold of an empty one and scared me to death, hide these as best you can), etc. I\\'ve been told citronella spray discourages dogs from chewing on things, so maybe check that out? \\n\\nI\\'ve lost all my pillows, several blankets, my comforter was gutted, my couch is ruined, and she chewed probably a dozen USB cables. I\\'d like to think I was somewhat diligent, and she still managed to do all that! They\\'re sneaky when they\\'re babies, so just understand you\\'ll be losing a lot of decorative stuff most likely. Mine would literally chew up pillows while I was taking a shower or bite through a cable while I was browsing my phone while it was plugged in. They\\'re that quick. \\n\\nGet some wet wipes and carry them with you everywhere (preferably something used for babies so it\\'s not too harsh on them). I have a tub in my car and a couple in my apartment. Kennel train them early, and make it a safe space for them so they aren\\'t nervous in there if you need to leave them. Socialize them a *ton* early on so they don\\'t develop any weird social habits. My pup is scared of men, especially when I have guy friends over at my apartment, which I think I\\'m partially to blame for (but she\\'s always been a bit nervous around boys). Take her to doggy daycare like, once a week or twice a month or something. They love it, they get to socialize, and you get a day off. \\n\\nBut you\\'re going to absolutely love your dog, all that stuff is meaningless and replaceable. She\\'s so pretty! Teach him his name early!!! Say his name, wait for him to make eye contact, then treat him. Congratulations!! Tbh, if you have a picky one I simply recommend what your dog will eat. My golden won’t eat certain foods, either because he doesn’t like how they taste or because they upset his stomach (or made his poop super weird and consistently diarrhea-y, which indicates that it isn’t going through his GI tract well). We found food he is excited to eat every time and stick with that. Give him lots of puppy kisses for me.  You look so happy and are going to be a great puppy mom!  Congrats!!! ❤️ Don’t have a golden, but I have a Shih Tzu. Crate training’s good, it stops them having accidents everywhere.\\n\\n(At first when we got my dog, we weren’t properly prepared, so we didn’t have a crate, and so she just slept on a pillow, and had the whole kitchen to herself. She ended up leaving us plenty of surprises NOT on the pee pads.)\\n\\nAlso, try and not use pee pads, as they might get used to them, and not want to do their business outside on grass.\\n\\nAnd maybe take him to a training class. We did that with our dog now she is very well behaved. Most of the time... but that’s just a dog being a dog innit. Yah, multiple people have suggested Taste of The Wild to me so I think that’s what I’ll be going with! FYI all of these foods you recommended have been suspected of causing nutritional DCM in Golden\\'s. They\\'re still researching it but I\\'d still be careful. [deleted] Hah!! I have a pupper whom we taught to ring a bell on the door handle to indicate when she needed to go potty. Then she took advantage of us and rang it all the damn time just to get more attention and go outside. We ended up removing the bell.\\n\\nShe was always bored because she could never get ENOUGH stimulation .... SO glad she\\'s grown out of that. :) I love you He will eat it eventually! He just prefers Iams or Nutro to anything else lol Patience, consistency, and don\\'t feed them grain free food. Get wood or tile flooring. Carpet +  golden = golden carpet Don\\'t buy expensive foods. Stick with established brands since they have the money to research. Goldens need certain things in their diet. I second this potty training advice!! We did the same thing had had success. There weren’t that many accidents but I’m pretty sure all of them were our fault lol. I would also caution with non hard rubber toys because they will rip those suckers apart and as one of mine did get ahold of a towel and messed up his intestines for the rest of his life. So toys are good just be cautious. Ours used to take all toys and shoes and carry them out to the middle of the lawn when he was younger. He would then lay on top of this pile of stuff, like a dragon guarding his treasure. Hes a special boy and i love him Yes on the toys, but puppies are super curious, so anything left at their level is fair game. I lost a phone charger or two during my pup’s first year. I think mixing up toy variety is fun for them also: balls, ropes, stuffed animals with squeakers, etc. Love it. Even better that it\\'s a Golden Retriever while Cloud is a blond. ~~Even if the name might work slightly better for a samoyed.~~ I hope your pupper brings you a lot of joy and support! I would say that obedience school is good for any dog too, emotional support or not. :) Lint roller runs out too fast for me. I just go for the straight up yeti look. There\\'s a ton of really good advice already and I just wanted to say congrats on your new baby!! Brush his teeth every day and keep him trim and fit. They are the two best ways to a longer Golden life. Try to minimize or avoid grains entitirely with his food and treats. If he gets itchy as he gets older he may need an expensive medicine, Apoquel but its so worth it for his comfort. If you live around or have pine trees in your yard use the \"Missing Link\" powder food supplement in his food to minimize hot spots and skin issues. If he swims get him very dry after especially under the ears and arm and leg pits to decrease the chances of hot spots and mats. Speaking of mats, total handle him every day, especially when he is older and his double coat really comes in. Work your fingers all the way down to the skin all over so you can catch any issues early.  Wishing you many years of best friendship! Learn to hit that mute button during conf calls, and if pup barks while not on mute, ask whose dog is barking. \\n\\nMine loved to bolt out the open door, so make *absolutely certain* the door closes behind you. \\n\\nThey tend to have the energy of a puppy until 7 or 8 years old, but you will wear them down... eventually. I ended up buying a Canon Rebel. Since this is my first dog, wanted to be extra and get that expensive quality ������ Thank you so much! Thank you!!! Make sure his food has no pea protein or any legumes. Goldens get DCM dilated cardiomyopathy. He’s almost home!',\n",
       "       'Then maybe training school isn’t the right phrase, it’s a positive reinforcement class to teach her basic commands. Sit, stay, heel (which is important because she’s 60lbs and could drag me if she tries to run while I have her leashes), lay down. I think the suggestion here by many to get a crate to serve as a safe space for her is a good idea.  It sounds like your son\\'s room might be a good place to keep it, at least for now.  Also, how is the temperature where you are?  Many pitties get chilled easily.  If she’ll tolerate it, a sweater might be helpful.  Since she’s taken so well to your son, it might be a good idea to sacrifice one of his blankets to keep in her cage.  His scent around her might help.\\n\\nWe got our pittie from the shelter when she was 3 1/2 months old.  She had mange, a bad back knee, a hernia and was allergic to everything it seemed.  We got the mange cured, the hernia fixed, got her a bionic knee and put her on an over-the-counter antihistamine when her skin erupts in a rash.  Even at such a young age we had to teach her how to play and it took her a few months to stop running away when we just walked around the house.  She\\'s six now and still gets anxious around strangers but oh lord is she sweet natured and loving.  She’s the biggest bed hog now and once she gets to know you, you can’t get away from her.\\n\\nHang in there.  You sound like a wonderful parent for this baby! Thank you for this! So she was getting rashes on her belly and leaky eyes, which is why we had the intial appointment a few weeks ago. She\\'s going back next week to get allergy tested. She\\'s currently on a chicken and grain free diet which has helped tremendously, however it did take her a day before she would try the new food. I\\'m hoping once she gets allergy tested we\\'ll be able to eliminate the other foods that could potentially be bothering her! maybe try a covered kennel or dog bed? just a thought but it worked on our rescue ferrets.  kind of simulate that under the bed feeling. I\\'m no expert and don\\'t claim to be one. I\\'m just thinking baby steps. Start off with the bed next to your son\\'s and then if that works then try a main area. My wife grooms dogs for a living and she\\'s got customers that have had great success with doggy cbd. One dog was so anxious he couldnt be groomed so they tried it out.  a week later they were able to do a bath and complete groom! So don\\'t give up! the love is there it just might take a little push to get the comfort to match. I wish you the best luck in the world.  Don\\'t forget to update, love the pic First, you\\'re doing wonderfully. Her uptick in anxious behaviors is clearly not for a lack of care and compassion on your part. Our pitty babies have good times and bad times just like we do, and if she\\'s backsliding a little in terms of social time, that\\'s okay. It\\'s a good sign that she shows even a little bit of improvement with praise and treats. I\\'ve got two pit babies myself, one indoor and one who\\'s basically our new farm dog. My first was a rescue from a pit breeder/hoarder who would keep them crated where they could only eat walnuts, and our farm baby just showed up one day when someone dumped her after she too was overbred.\\n\\nIt took a full year for our second (actually suspect she\\'s a pit-heeler mix)  to be fully comfortable around anyone, but now you can hear her running at full speed for kisses and pets when you come outside. They both had some challenges in terms of finding what worked for them, but the main challenge is just giving them time. You\\'re showing her that you are trustworthy and while she has boundaries, she still has a place where she is safe. Just reinforcing that her creature comforts and needs are hers just because she\\'s with you does a lot. If she doesn\\'t want for food, water, warmth, etc, even spending a little time just hanging out beside her new hiding spot can help her reacclimate to you. Maybe whatever scared her was a loud sound outside that didn\\'t come up on the cameras? Unfortunately, rescues can have all sorts of associations with normal everyday occurrences that we can\\'t know about simply because they weren\\'t always with us, but patience, kindness, and positive reinforcement will bring her back out of her shell when she\\'s ready.\\n\\nIn short, don\\'t be too hard on yourself, and keep loving your new baby. [deleted] Huh, ok . She will relax and come around . She’s grateful she was rescued. Thank you She needs to play with another dog. You can\\'t teach her how to dog. Hey OP, I’ve worked in a shelter and currently work in Animal Control.  Thank you so much for adopting a dog that’s considered difficult to adopt.  I unfortunately see and pick up these dogs on an everyday basis, and the shelter environment is completely different than a living home environment.  Dogs that come from difficult situations as you stated in a previous post, always take time to adjust to the home environment.  I would recommend a dog trainer to help with your transition, and of course it’s always time that will help out with behavioral issues you’re experiencing.  \\n\\nI adopted my two dogs, and they didn’t have as many issues as your dog is currently experiencing, but they still have a transition period.  One of my dogs,Jolene, had a problem with anxiety and and going to the bathroom in my house.  Eventually she stopped having bad anxiety when she figured out that I would come home, and found that crate training was great for her anxiety.  She also stopped going to the bathroom as much in my house through crate training, but both of these things took a very long time around 6 months.  \\n\\nMy other dog,Waldon, has a high prey drive, which was not great for my cat.  This took a year for Waldon to stop chasing the cat every time he saw him. At the beginning the cat would scratch the shit out of Waldon, but Waldon was relentless to get to the cat.  They were separated until I was able to get Waldon to stop chasing the cat every time he saw him.\\n\\nAgain I want to thank you for adopting a pitbull with issues.  These dogs don’t stand a chance without people like you.  I would recommend looking into training classes for both you and the dog.  Some shelters will have resources available to you regarding training and how to cope with the shelter to home environment.  I hope the best for you and the dog, and that she makes a great member of the family. Thank you! This does help, I love hearing positive rescue stories. Good luck with your pups! It was but it is so worth it, he\\'s a huge cuddle bug now. And your pup will come around too, it is rough when they first come home and are so scared, but she is already closed to your child, shell warm up to you guys soon, and hopefully start playing with toys! Patience is what she needs. I wish you the best of luck and I hope she start opening up fast She only had the collar on for about a week before we took it off! Fleas aren\\'t a worry right now due to it being so cold. She was just at the vet a few weeks ago, and goes again next week for her allergy testing! So we\\'ll do another full check up to ensure nothing health wise is going on. For a dog that has been bread like that I think it is best to give her a space where she can go in such as a crate with blankets that\\'s her own. She may be hiding under your son\\'s bed because she feels safe (also lives him) . Pitbulls by nature like to have their own spot to go to and too much space and options can be overwhelming for them.\\nI know this worked for my rescue pit that I was having similar behaviors. [deleted] Nope! We use Soresto collars for all of our furry family members. She is actually more cautious around me than my SO! I actually understand exactly what you mean! It\\'s like she doesnt know how to dog lol [deleted] We have 3 rescues. Most recent addition to the family is Seamus. He didn’t wag his tail for a year. His eyes just looked so sad. We presented him with a safe place, space if he needed to get away, white noise to soothe any loud sounds (he loves ocean sounds and nature shows), and time to adjust to his new home. He still prefers his white noise but he wags his tail and seems much happier. \\n\\nMiddle child, Etta, demonstrated a sudden onset of anxiety to miscellaneous scenarios: open lid trash cans, discarded Christmas trees, and car rides to name a few. After several months, we finally figured out the best way to help soothe her: singing along to Disney songs. Her favorites are from Moana and Zootopia. She also likes Native American flute music. \\n\\nNot sure if any of this will help but it’s the best examples I can share. Thank you! I know rescues can have their own quirks and things they\\'re afraid of. So far the biggest thing we\\'ve noticed is announcing our presence if we walk up behind her. Objects don\\'t seem to scare her, however she is *incredibly* picky with her food and treats (shes on a chicken and grain free diet currently), and she doesn\\'t know how to use toys. She gets insanely happy when I\\'m making her a new sweater, and loves wearing them and that seems to help her. I also love that she\\'s a snorter! She snorts all the time, and it\\'s one of my favorite things about her. We usually call her Miss Piggy. You don\\'t even have to lock her in there, my aunt and uncle just leave it open, just make it her safe space It could be the lack of stimulation. Think about going from 50 cats and crazy, stimulating atmosphere to pretty much nothing, in comparison.\\n\\nThe newness has worn off and now she is lonely and afraid. She went from a house with 50 friends to a house with 5. That\\'s a big change.\\n\\nMake sure she gets walks every day and devoted play time. We had a dog that would disappear for hours at a time into her crate. She didn\\'t like loud noises or arguing (my husband and I are both suuuuuuuuuuuper stubborn lol). We\\'d find her completely passed out and relaxed in her crate. It was her special cozy space. \\n\\nWe also had another girl that was TERRIFIED of shipping packaging. Bubble wrap, boxes, packing paper.... Who knows why? But she\\'d climb up into your lap like a 55-lb squirrel. \\n\\nOur current girl sees the Swiffer as her mortal enemy. She doesn\\'t like to crate, so she asks politely to be let outside so she can survey her domain while I do my thing with the Swiffer. \\n\\nThey\\'re all so different! And they go through phases post-adoption. \\n\\nAnnie is beautiful and I love that she\\'s a snorter!!! Yeah, the person who had my first pitty was truly a hoarder, but she was part of a set of puppies and a few mamas who he finally surrendered, and I\\'m hoping the rescue got him to give up the rest as well. \\n\\nIt goes back to watching her cues, I think. If she\\'s not trying to get further away when you\\'re in the room with her hiding place, I think it\\'s okay to grab a pillow and a book and just spend a little time where she feels comfortable. You could even start across the room from her and just move closer as she responds. You don\\'t have to talk to her, try to play, or give her treats. Just cohabitate with her, and she\\'ll relax as she gets comfortable again. [deleted] Dog training is about you learning how to make the dog feel like you\\'re in control and they just have to take your cues. Thank you, genuinely. I just want her to know she’s safe and loved here, but I know that kind of trust isn’t built over night. Thank you! These are the kinds of things I definitely needed to hear. In retrospect, I know she isn\\'t nearly as bad(?) as some rescues. She is an incredibly lovable dog and responds to positive reinforcement and praise. She does excellent when left alone. Our biggest problem is getting her to go on walks.. she is a bit chonky and needs the exercise, though. I\\'m hoping with more encouragement she\\'ll come out of her shell in her own time. Who thinks it’s okay to only feed a dog WALNUTS?? \\n\\nI wasn’t sure if hanging out with her in her new hiding spot was okay. I didn’t want to over do it? I have no problem climbing under my kiddos bed and laying with her, but I didn’t want to overwhelm her. She also has her own futon in our spare bedroom she can go to, which she does when it seems like she feels overstimulated or my seven year old is being too nosy, haha. I definitely don’t plan to give up! She’s supposed to start training school in January, and I’m hoping being around other dogs that they’ll help show her what toys are and how fun they can be. I don’t have specific advice, but I can tell you that in my experience adult rescues go through a lot of changes in the first 6-12 months. They blossom in some ways and regress in others. Our boy starting peeing indoors. All I can say is be patient. Find the right resources to help you (in our case, our vet and trainer) and keep working at it. Things will get better! Thank you for taking a chance on an adult, abused pibble. They are so worth the work and the wait. It took my rescue 6 months to leave my kitchen and a year and a half to go outside. The more I pushed him, the slower it went. It took me too long to realize he just had to go at his own pace. Once I stopped trying he made a ton of progress. Don’t be discouraged. Remember she’s been through a huge ordeal and needs to find her own way. Google the two week shut down. Great, make sure you tell your trainer about her history so they can keep an eye on her - some dogs are overstimulated by a whole 60 minute class and a good trainer will see that and have you come in for shorter increments in the beginning.\\n\\nI don\\'t want to spam your whole thread with comments, lol, so another piece of advice because you mentioned she doesn\\'t like to go on walks: maybe try to find a chill neighborhood dog that could become her walk buddy.  Some dogs feel safer in the company of another dog outside. Oh gosh it could be anything. Don\\'t work yourself up over it. A loud noise she heard, a weird motion from the cats, something uncomfortable she stepped on, a delivery person.. let her go where she feels safe, don\\'t force her to come out, give her the space to figure out her new home. Sometimes that takes months! However you can try and see if you can figure out what she likes - eg blankets, playtime (and what kind of toys), scratches in certain spots, treats, going for walks, and just do more of the things she likes. Show her your home is associated with all the good things!\\n\\nMy rescue dog took a few good months to start playing with me and come out of her shell - all she did until then was sleep under blankets and get crazy aggressive at dogs on walks. She still does those things, but is happy as can be most of the time and she gets stupid excited about playtime. Give her time and patience, she\\'ll figure it out! We don’t force her to come out, unless I have to leave and I’ll call her by the door and tell her it’s time to go outside. But that’s more of a request than forcing her. She loves to be wrapped in blankets, tolerates some treats, and has zero idea what a toy is or it’s purpose. We give her lots of positive reinforcement and encouragement when she sits with us in the living room or kitchen. I definitely don’t want to scare her off by making her more uncomfortable, so I’m doing my best to follow her cues! [deleted] Thank you! I\\'ve rescued rats, cats, bunnies, bearded dragons.. but dogs are a whole new ball game to me so I feel like a new parent again. I\\'m constantly questioning everything I do. However kiddo and I have been awake abot an hour and change, and Annie has sat in the living room with us all morning so far, which is massive progress from what she was doing last week! You may want to ask your vet about Trazadone. I used to give it to my pittie when she got anxious and it definitely helps her chill out. From reading your info comment i can say you\\'re doing things right, just breathe and give her time . Do make sure that you have your feelings in order as dogs (and animals in general for that matter) can sense your energy and feed off it so project your best and most confident energy to her and the rest of your household. [deleted] She looks like such a sweetheart, I love her face. Please don\\'t think that she doesn\\'t feel safe in your home! You\\'ve had her for three weeks or so? I\\'m gathering that based on your post. She\\'s still very much decompressing. She definitely needs time, she\\'s just unsure because of her past. I have two rescue pitties and my most recent one (I adopted her three years ago) was also used for breeding and came from a pretty bad place. She would growl at people when I walked her, never let anyone get close, she didn\\'t react well to my other dogs at first, she basically trusted no one, and she only felt safe in her crate. Interestingly, she has always loved kids. I don\\'t have any, but there were tons in my old neighborhood. It took a few months, but became much more confident. She is GREAT now. Loves my other dogs, loves people, she\\'s a happy girl.\\n\\nI would suggest getting her a crate if you don\\'t already have one. Just a good idea in general for a little private place for her. All my dogs go to their crates willingly. Make it super cozy, get a crate cover so it\\'s dark in there. Sometimes behaviors can be delayed. Two weeks after adopting our dog (Boston Terrier) she started displaying signs of fear aggression. Totally out of nowhere. A crate doesn\\'t have to be closed, I have one with the door off. One of my dogs just feels comfortable in there, it\\'s s his comfy little safe space and whenever he goes in there we leave him alone and give him his me time. Your poor pup was abused and it will take a long time for her to truly feel safe and comfortable in your home. Sounds like she regressed and that is not uncommon. Just keep doing what you are doing. Give her lots of love and have patience. What about creating a safe place for her? Make her a dog fort. Some dogs feel safe in a crate. Ours didn\\'t so we built a little fort for her and she loved it. You can being her favorite toys there. Talk to the vet as well. There are holistic medications that treat anxiety. Good luck. She is a lovely dog. Our vet recommended CBD oil too! We have been looking online to find some treats in hopes it can help ease her anxiety. A friend who is a vet tech also said that sometimes they can “regress” if they start to feel too comfortable, but will eventually come around again. Thankfully Annie hasn’t shown any signs of aggression, she just looks really sad sometimes. Which is heartbreaking. Make sure it isn’t a health issue!!! Sudden changes in behavior are a key sign of illness/injury. \\n\\nAdditionally, behaviorists have found it takes typically 3+ months for a dog to truly acclimate to a new environment. \\n\\nAlso, I recommend crate training, having a safe space for her to go when she is anxious is vital. Ours use theirs every time there’s a storm. Definitely wait on the office visits until she’s more comfortable around you and her new environment.  I say that because I have responded to a lot of animal bites due to the owners bringing in their newly adopted animals to their offices.  Dogs that have experienced trauma can have all sorts of triggers.  My dog Jolene becomes very scared if I raise my voice at her and she really hates black people. I don’t know why she hates black people so much, but she always had since I’ve owned her. That training is not only going to really benefit your dog, but will really help you understand what your dog is going through and the best strategy to cope with the current issues.  I would recommend finding a training style that best suits your dog and you! There are multiple ways to train dogs, and not all of them be the best fit. She\\'s adorabull! Sending good vibes to you and your family [deleted] We used Soresto too. It was perfect for one of our dogs but the other didn’t react to it well. She was very low energy and jumpy at the same time. Then eventually she started throwing up repeatedly. When I took the soresto collar off she was fine within a day of two. That might not be your issue but it’s a possibility. I hope that’s all it is! I know we’re making progress, but I just want her to feel loved and safe most of all. [deleted] I had a pittie named Annie that the shelter told us was used as a bait dog before she was surrendered to them covered in dog bites. She was scared of literally everything, Humans, children, dogs, cats. She wouldn\\'t be in the same room as my ex and I got the first month. She\\'d shake and tremble over nothing. Her worst reactions were to gunshots, fireworks, and thunder. (New Years Eve gunshots are wild in the Southwest). Could your Annie have heard something that scared her? is there a behaviorist at your shelter that you can talk to?  There are behavioral options like training, exercise, and thundervests, as well as medical interventions like CBD, Xanax, Prozac, etc. \\n\\nI know it can be discouraging to want to help and not know how m  For what it\\'s worth, if took maybe 8 months until my Annie was really truly at ease with us, BUT it was the most rewarding experience I\\'ve had to become her family. The bond you develop with a dog that is so afraid and desperately wants to trust is truly exceptional. Watching her actual personality come out and learning how goofy and silly she is when she\\'s not scared.  When I met her I thought I\\'d never feel a connection with her, but she became my daughter. \\n\\nHang in there, I bet she wants nothing more than to trust and have a family and I promise it will be the greatest reward when you finally achieve that. Please DM me whenever, I\\'m no expert but I\\'ve fostered a bit and am happy to chat whenever. Background: Annie is a rescued, overbred pitbull momma. She was bred and bred until she was literally tied to a post and surrender outside a rescue. We have *no* idea what her background is. The first two weeks we had her, she did her happy tip taps, snorting in joy any time I even looked at her! But in the last week and change, something triggered her and she’s been hiding under my 7YO’s bed. She’s only been coming out for my kiddo, to go potty, or food. She shakes in anxiety (I wouldn’t say fear), seemingly starting out of nowhere. We have cameras in the house and I scoured them on the day she began this behavior, and nothing noticeable happened. I’ve been giving her space, and praise when she comes into the main areas of the house and it’s gotten better, but she’s significantly more anxious now than when we got her. We’re doing our best to encourage her, and my son is definitely her [best friend](https://imgur.com/a/eCmVhtM). We’ve had her about 6 weeks now, and I know building trust with her can take time but it’s disheartening feeling like she doesn’t feel safe in our home. We do have 3 cats, but she was around 50+ cats at the shelter for 6 months. She doesn’t bother them, and they don’t bother her. I just posted a background comment! After a few weeks being home, she began hiding under my kiddos bed. She gets *really* anxious and runs and hides under there. She has gotten better the last few days, but it breaks my heart she doesn’t feel safe in our home. And we don’t know what her triggers are. We don’t yell in our house, or raise our hand to our kids or pets. So I feel clueless. Hey Op, I read through your posts. It might be time for a quick vet checkup. She might be in pain or feeling ill. Given everything else you posted; I think that would be prudent. You said she is still eating and goes potty. Is everything like that normal? [deleted] I don\\'t have any advice to offer, but I just wanted to tell you that you are doing a good job. Some dogs just need a whole lot of extra love and it takes a special person to be able to give that to them. Keep up the good work! Even though she\\'s having a hard time, I know it means everything to Annie, literally. We rescued a bulldog mix that looks just like Annie a few years ago. It took her six months to decide that she shouldn\\'t be afraid when we left the house and then that led to something clicking about toys. Now she always has a squeaky toy with her.\\n\\nDon\\'t give up, keep up the love and patience! Don\\'t sleep on the covered kennel, for my Sophie it was under my desk, I noticed she liked hiding under the desk because it was dark and always next to me. So I put a bed under the, and it became her haven when scared. Maybe it could be the adult male in the house if there’s one. Our dog did the same thing every time she saw my husband and especially in his uniform. 1 year later she was cool with my husband.I hope this helps . You\\'re starting training school. She\\'ll just respond to you learning how to be the pack\\'s alpha. Cbd oil can do well with anxiety.   Anxiety is not uncommon in the breed.   Prescription meds too if it gets bad.  We have some just like this major changes out of no where. Thanks! She doesn’t seem to be bothered by retain objects or specific people (that I’ve noticed), however she doesn’t partially like unexpected or loud noises. I’ll definitely continue the positive reinforcement, but not *too* many treats because she is a bit of a chonker already haha You\\'re welcome! Is she just afraid to go on walks? I used walks as a way to help ease Eve\\'s anxiety and build her confidence. We started with just small walks (just down the street and back) and gradually went for longer ones because the traffic and noise scared her so much. 6 weeks?  That\\'s nothing in terms of what she\\'s been through before.  Give it a year or so!  You\\'re doing all the right things, and there are SO MANY positive things in your post.  I have no doubt that she\\'ll figure out her new life is permanent soon.   Just keep doing what you\\'re doing, be consistent, and she\\'ll eventually realize that her new good situation isn\\'t going away.  I imagine she\\'s mostly afraid that this is a temporary thing. I **definitely** do not plan to take her back! I know this can take a lot of time and patience, and I knew the commitment this took when I rescued her. I won\\'t give up on her, and I\\'ll pull all my resources I can to give her the best home possible! Firstly, she looks absolutely gorgeous and sweet and it is still a mystery to me how people can abuse these amazing, loving creatures!! Thank you for giving her a home, and THANK YOU for caring!!\\n\\nThis could easily be delayed reaction. She’s safe, relaxed and suddenly, boom. Get her checked again by the vet as a precaution and to rule out any sudden changes to her health.\\n\\nThe fact that she is responding to your kiddo is a good sign and one that tells me that she is anxious. She is happy to respond to someone she feels equal to.\\n\\nPlease look into Dr Bachman’s Rescue Remedy. It is a fantastic anxiety treatment. I have used it on my dogs forever, also horses, and my kid. It has a calming and restorative action, is entirely natural and made from flower tinctures.\\n\\nShe will come to you when she’s ready. Till then, let her sleep and feed her well and just talk to her and tell her you love her xxx I rescued my dog Potato when he was under a year. He was bait in a fighting ring and hoarding situation. When I got him he was terrified of EVERYTHING. Strollers, Orange comes, bubbles, the oven, anything. It took years and patience to get him to chill. He’s now 9 years and still scared to death of bubbles and my oven (among other things but these two are his arch nemesis) and shakes like a leaf but he’s amazing. He’s smart and loving and honestly has saved my life. You sound like you’re doing great. Pitties do well with positive reinforcement (treats!) and praise. Use that in your favor. Keep loving on her and she’ll come around. You\\'re doing all the right things!! :) Give it time :) I would look into CBD oil for a few weeks. And I would start clicker training, it\\'s great to build confidence in a dog and form a bond. Many rescued dogs are on a pink cloud for the first few weeks in a new home, but once they settle in they are a bit lost. This is because the neuropathways that have been built in for instance a puppy that lives in a stable home are not there yet. So bonding exercises and self esteem building exercises are important. Are you able to take her to obedience classes? Or dog sports, there are a ton of fun things like Rallye obedience, hurdle racing, heelwork to music. Good luck and thank you for rescuing this sweet girl. (And do keep a close eye on her medically and feed her fresh healthy foods if you can) Honestly you may want to consider taking her to the vet\\'s as shaking can be sign of pain and hiding could be that she doesn\\'t feel well. Also they could make some suggestions as to how you can help her over this hurdle if it is anxiety. You say she likes being bundled up with blankets? Maybe you should try those Thunder Shirts. The close fit seems to help with dogs anxiety similar to weighted blankets for humans. Be patient and give her time! Just here to remind you that this situation is going to take time. I brought home a dog (she was just supposed to be a foster but I ended up keeping her) who was on police hold for 6 months with a few other dogs for a severe neglect case. I was able to talk to some of the volunteers at the shelter she was at and it turned out she was over bred and then kept in a crate. When we brought her home, she had a panic attack in the car. She wouldn\\'t come into my house for anything - no food or treats. My husband and I stayed outside with her for a bit and finally picked her up and brought her inside. She did fine with my dogs at first until she attacked one of them when she got spooked while she was falling asleep. This situation scared me so much. We ended up keeping her separate from them for 3 weeks. My husband and I would take shifts sleeping on the couch with her and our other dogs in our bedroom. Luckily my husband and I worked opposite shifts so she was rarely left alone. When she was alone, we crated her (my other girls are also crated) but she panicked. We could leave for 5 minutes and she would destroy her blanket and poop everywhere. We decided to try just keeping her in the bedroom while we were gone but she ended up shredding our blinds and chewing off our door frame. My heart was breaking for this dog but we didnt give up. In the end, it took about 2 months and a lot of slow steps and training to help her. I\\'ve had her for 2 years now and she is the most confident dog in a 4 membered pack. Sorry this is so long, but just dont give up on her. If my Eve can make a turn around, so can your dog :) [deleted] All of this is totally normal! Try not to be hard on yourself, there\\'s definitely a huge learning curve. Often times the info I received from rescues in regards to dogs I have fostered wasn\\'t always accurate since they are usually very different in the shelter environment. It took me at least a few years of having my rescue dogs plus fostering to really learn about all this. If it makes you feel any better, I have fostered dogs that were literally a shell of a dog, there was such a serious void. I had one dog that was a zombie, it was really sad. I have seen some truly broken dogs. Your girl sounds like she has a lot of spirit, she just needs time! My boy started off as dog sitting. But then he did something that caused the scumbag owner to punch him in the snout. Big black dude full force closed fist to the face. We acted like it was nothing and refused to return him. So I basically stole the dog. Now\\'s he my best friend and I couldn\\'t live without him and vise versa. \\n\\nWe later found out that the owner kept him in the cage, rarely fed him, and broke 2 of his ribs and regularly knocked him out. But even after that he is the most loveable pit you can meet. He finally stopped flinching (about a year ago l) when I go to pet him on the head. This happened the first 3 years of his life. And now hes 8ish so hes had more time with us and he couldn\\'t be happier. I got posts of him on my reddit account all over. Hes the light of my life and I hate being separated from him. Oh! Have you by any chance given her flea and tick medication (the stuff you put on the dog\\'s back)? My dog always resented me for a full day after I\\'d do that - she\\'d go to another room and stay there all day. We\\'ve switched to a chew version and it\\'s much better. For some dogs that stuff gets really uncomfortable. Give her time. I hit the lottery with our current pit but I’ve had other rescues that take time to get comfortable. She’ll come around. Maybe it’s time outside playing if you can. That could get her used to different sights and smells. Why do you feel disheartened? So earlier this year we took in the beautiful mastiff, he was still a pup, only 7 months. We got him from a friends sister, who told us he was completely trained and just needed a new home because she couldn\\'t take care of him anymore. She told us that he was afraid of loud vehicles, and was wary of men, and that he was completely potty, and crate trained.. When we brought him home he was an absolute nightmare. He was not potty trained, and he destroyed everything, he ripped my plants out of the pots, he destroyed $100 gaming headset. He went to the bathroom everywhere, he peed on boxes, pooped all over the house, and it was not solid poops it was stress runs. He would panic anytime he was left alone and bust out of his kennel. If we tied his kennel together he would try so hard to get out he would rip up his own face. He destroyed our blinds and ripped up the carpet in areas. With that being said, this only lasted about 2 months. We were so defeated for so long, but now he loves his kennel, he has been accident free for 4 months now. He still chews up some things when we leave him alone, but he\\'s better. He doesn\\'t go after everything, it\\'s mainly just plastic cups, and trash. He still shuts down when he hears and sees a loud truck. He is still afraid of large men, but he isn\\'t as bad, he allows them to approach him and let\\'s then pet him after he sniffs them. He listens so well, his recall is amazing. He doesn\\'t pull on the leash.  What I am trying to say is be patient, it does get better. And it is was so worth it. We adore this dog and all that pain at the beginning and now we are so happy. My pibble used to get seizures. He was anxious, got rashes on his belly, was doing a weird head shaking thing and behaving very strangely overall. We’ve only had him for a few months at that point and weren’t sure what was the problem. It took a few vet visits to figure out that they were seizures and a few months to figure out that they were a result of food sensitivities (most likely to all grains).  We switched him to BARF diet (you can google it for more info) and the odd behavior stopped. He got another seizure attack once after that when one of our guests gave him a piece of pizza crust without our permission. We immediately recognized the weird head shaking and anxiety behavior. \\n\\nHe’s been on the raw diet for almost 10 years now. He’s very healthy and energetic, even though he’s a senior doggo now. \\n\\nNot sure if this would help, but something to consider. Got ya. Since she is acting so anxious. You might want to look into a thunder-vest. I know they sell them on Amazon, also another poster suggested a \"covered\" bed or kennel. My pibble loves his Dog-cave. My boy was anxious when he was younger and I had great success with the thunder-vest. Good luck, you\\'re on-point. She has a vet appointment for her allergy testing next week. I did bring all this up over the phone with the vet, but she didn’t think it pertinent to book an emergency appointment over it. \\n\\nYes she definitely responds to my son! She loves him and is basically always by his side (which is funny because she was most timid around him when we first brought her home)! \\n\\nI’ll definitely look into that though, thanks for the recommendation! A few comments ago, someone mentioned that the Soresto collar was causing slight discomfort and pain for their pup. Pitties have very sensitive skin.....try taking the collar off for a few weeks and see if it helps! this is a riskier option but i know some dogs can benefit from having a dog buddy. my cousin for example had an anxious dog, but not as bad as your girl. she got a second dog and the two of them are best buds and the second really helped the first come out of its shell. \\n\\ni imagine this could go negatively. the dogs could not get along or the anxiety gets worse or something. but it’s definitely worth considering. maybe consult a trainer or if s friend or family member has a dog that could come over. She’s not afraid she just.. is unsure of them? Thankfully we live in a super rural area so traffic isn’t much an issue but it’s like she didn’t understand what a walk was.. I don’t know how else to describe it lol. Two words: heated blanket. Throw that on the couch when you’re all hanging out and you’ll have a melty little seal pup. Please, please don\\'t give up! I\\'ve heard a lot of sad stories where people adopted pibbles but carried them back to the shelter because they didn\\'t give it enough time. When I adopted max it took months before he would sleep next to me. It took him a year to trust my brother and dad. He was terribly abused by his previous owner which made it a lot harder for him to open up. Now max is my best friend, he takes naps with my dad, and as I\\'m typing this he is asleep in my brother\\'s bed. Please be patient. It could take months or longer, but once she finally opens up and trusts you fully it will be worth it. [deleted] Just love, time and patience..\\nShe\\'s been through a lot...just keep kerp loving her, and lots of treats!! My girl was also over breed and dumped.  Week 1-2 she seemed indifferent.  Weeks 2-4 she slept in the closet before she attempted getting on the bed. Then she would bolt back to the closet if I rolled over to fast.  I gave her a crate with pillows and a blanket on top to sleep in at will, like her own dog cave, it seemed to help. She was afraid of the squeakers in toys so I had to cut them all out for months.  She wouldn\\'t take edible toys.  Month 2 she ate all my husbands shoes but no one else\\'s. Never did it again.  A year later she is mostly normal now except she doesn\\'t bark and she has some kind of allergies that make her  chew her thighs raw.  :-( Otherwise perfect and dumb.\\n\\nShe also loves being covered in blankets! Oh my goodness, sounds like that was definitely a rough few months! I\\'m so glad yor pup is doing better now, and you gave him the time and patience to learn the right things. I know so many people would have surrendered a dog back to the shelter that acted like that! Awwwwwwww. We call our girlie a sow a lot because she lies on her side just like a pig - legs sticking straight out and everything! \\n\\nOur girl\\'s also super picky! I\\'ve never had a dog that rejected every people food or scrap she was offered. She\\'s gotten better over the years we\\'ve had her, but she takes any new food away from me so that she can thoroughly inspect it. She\\'s gentle as can be, but she just holds the food between her teeth until she can put it on the floor and make sure it\\'s safe. \\n\\nI remember our first dog, who was a stray, took a long time to be okay with people coming up from behind her. I suspect it\\'s a self-protection instinct. She got fine with it over the years, but it took a while. \\n\\nHang in there with Miss Piggy! OP you\\'re already setting up as a great new parent for Annie.  Give it time.  Like you said, building trust can take time and that\\'s all it is.  Annie seems ready to be loved! You are very welcome, and thank you for giving the poor girl a good home. It sounds like she\\'s never had one before. I\\'m sure you\\'ll get to the bottom of it, whatever it is. You may want to take her to a behavioralist. Ask your vet for a recommendation. Give her time. Trauma takes time.  Mine took years to act like an actual dog.  It’s a long road but it’s worth it. Can you give her a crate/kennel safe spot that’s covered and dark she can go and hide in and feel safe? Then she has some safe space that’s her own and you don’t have to worry about her being under a bed. And I’d just give it time and try not to worry too much I agree with the people who suggested a covered kennel, and letting her figure things out in her own time. \\nMy boy was about a year old when we got him, and he seemed to change a little a few weeks in too. It was almost as if he finally felt that he could relax enough to feel his feelings, as it were. He is out of that phase now, and is much more mature and relaxed.\\n \\nAnnie looks like a real sweetheart. She\\'s had a huge month with a lot of change. It might take her a little while to really process her new circumstances and people. Keep up the great work and keep on being awesome to her!',\n",
       "       \"In my experience they will jump off the bed to pee if they really have to. I recommend a ramp if this is going to be a regular thing! I am tempted to just start bringing her straight into bed rather than trying crate first. Just don’t want to wake up in pee. Might be worth it tonight and see how it goes To add to this, maybe try the doggie diapers they have. Have you tried a doggie bed next to your bed/in the same room as you? Possibly putting baby gates/play pen around the doggie bed in your bedroom so she doesn't wander off at night? no crate for my dogs, they sleep in the bed with us Mine won’t sleep without me. She has to be in bed with me and the wife or she will cry all night. Just be sure to let them out before bed. Wake them up if they goto sleep before u do and make them go one last time. Good luck :) Oh. My. God. I did not realize the high maintenance and training weenie dogs required. They got BIG personalities and I was not prepared, uninformed and did no research, didn’t know what I was doing at all. Let me share my story. It’s gonna be a long read on what I learned about this breed.  \\n\\nSo we have already a 1 yo maltipoo and a patio doggy door. We sectioned off a part of our small living room to create a “dog area” when we got the weenie, and this space also gave them access to their bathroom (patio doggy door 2nd floor). the dog area is about a 10ft x 10ft area, on linoleum floors, okay size for two dogs under 20 lbs to hang out in 8-9 hours at a time. \\n\\nSo we brought home a 8 week old Weiner and she cried murderous screams for 4 hours straight first night (I really wondered when she inhaled. She must have been screaming while inhaling I swear) when put in her crate and then later it turned into like the tired but still loud cries for the remaining hours she was in there. All. Night. Long. We were worried about our neighbors complaining but thankfully we live in a dog community and literally every other apartment has a dog. I celebrate no complaints! Was seriously afraid someone would report us for abuse or something. \\n\\nSo anyway we tried to crate her the first night and I think my bf and I had to come to an understanding that this little weenie misses her litter mates. Understanding where she came from helped a little. \\nThe litter of like 5-6 used to dog pile and use each other for warmth and came from a very bustling loud household with lots of children playing with them all the time. So the sudden isolation and not being able to smell any of her litter mates could probably have even been traumatizing to my little pup. Being crated for the first time in a quite environment with all strangers. Hell I’d probably cry too. \\n\\nSo the first night we caved and put out a sleeping mat and slept in the “dog area”. This was after a few hours of us attempting isolation and not rewarding her screaming with neither negative or positive attention. So after like 4-5 hours of screaming and being alone, and us not being able to sleep, we all slept together first night and she snuggled up to us and fell asleep right away. Note: we slept in the dogs area. I think this may have been important in setting boundaries and introducing her to rules later on. This is hers and that is ours. \\n\\nwe asked around for advice because this was continuing the second day.. third day.. and there had to be a better way to help her transition into our life. I was so worried that I started to think about her throat becoming raw and coughing up blood. I dunno if that’s even a realistic thing to worry about. My coworker also has one of THE worst behaved and stubborn weenie dogs.  She’s spent $$$ on dog training classes and behaviorists and all failed her. That one used to bang her own head against the crate and cause herself to bleed. She has scars on her nose snout area now. Really sad because she’s so cute, but that one couldn’t be crate trained for that reason. Anyway i digress. There is hope.  \\n\\nThe advices we received and tried were \\n1. Heating pad for warmth in her crate (I had to be smart about the wires or her chewing it up. I somehow managed it so she gets warmth but couldn’t chew or rip up anything)\\n2. Clock (the ticking supposed simulate heart beat and is supposed to help soothe puppies that are separated from a large litter - don’t have a source so this could be wrong) heard music and nature sound videos. Don’t know how effective that really is. You can try though. \\n3. One of our T-shirt’s in the crate. \\n\\nEventually she started crying less and getting used to it. And I think it helped that there was another dog even though it’s not her litter mates. I don’t know if the 3 things we did helped but she cried a lot initially. when she realized this is what happens every night. Without fail. I think she came to accept it. She came understand that crying resulted in nothing. It took about 3-4 months for her to stop crying altogether. She would cry less and less over time and now she doesn’t do it unless we leave her in a hotel room, where it’s an unfamiliar environment for her. But we consistently stay at the same brand hotels, and they use similar furniture, cleaning products, air fresheners etc. so I think they’re becoming accustomed to travel too and new places now since it’s still somewhat familiar. They understand this routine. Mine sleeps with me from the beginning\\nSo they say\\nIf you dog sleeps with you he loves you\\n❤️��❤️ This sounds like the dachshund way of live! Thank you for the tips!! Will report back tomorrow! This is what I did also.  As long as he can see someone he doesn’t cry &amp; has even learned that the phrase “time to go to bed” means to get in his crate. It’s working well for us This happened to us and we cracked and we let our Lola sleep with us in the bed. Lola knows to take her naps in her crate and to go there if she wants her treat before we leave for the day.. but for sleeping at night she’s in bed with us Continued...2\\n\\n\\n\\nWe really stuck with our rules and did not bend to her. We let her cry most times, and did our best to positively reward her when she wasn’t. She probably cried majority of the time we were at work, because she screamed as we left the apartment. Sometimes she’d be still crying when we came back and we’re listening to her cries from the window outside. Holy shit who knows how long she cried. Maybe all 8 hours. \\nBut she got better and she doesn’t have separation anxiety anymore. Be consistent. Be Constant. Routine makes dogs happy. The dogs were in the dog area for the first 3 months because we didn’t trust her to not pee on the carpet. If you are inconsistent, behaviors developed from random rewards are extremely hard to break and retrain. So you caving to her and sleeping on the couch might be doing worse. I have a BA in psychology and this is basics in the world of conditioning and reinforcement. If you look up the Skinner box experiment with the mice, you’ll find some insight. \\nBasically what this experiment did was teach mice to press a button for food. Then they taught them to press twice for food. And then they started releasing the food at random intervals. The mice eventually realized if they keep pressing it it’ll come out randomly. They pressed the button all day long constantly and would not stop. Even when they had stopped giving foods altogether the mice slowed down in pressing the button but would still come back around to press it again just Incase. This is what inconsistency does. It’s extremely hard to undo this. They basically continue to do the test because they don’t know that it’s over. \\n\\nOnce she was using the patio bathroom properly, we started to open up the dog area so they can access the rest of the apartment. We’d let them out after work until we went to bed. Honestly we didn’t walk them as regularly as we should have, but I think having access to the outside patio (which is one of the more spacious patios at approx 7ftx9ft for an apartment) kind of helped. That’s my excuse. Haha. Access to patio should have Nothing to do with walk training really. But I strongly suggest scheduled walks at the same exact time everyday. I think I read somewhere (too lazy to confirm source, so correct me if I’m wrong) dogs can smell what time of day, so scheduled walks really help if you can afford to do this with your schedule. If not maybe after their meals is probably a good pattern too. It just has to always be the same , walk after meal. \\n\\nAnd then when we go to bed, they go back in their dog area. I think after she stopped crying like crazy and it started to feel a little more controlled (even though she was still wailing like a siren) we began to crate train her. At like about 3 weeks in. She was in the crate while maltipoo was in the dog area right next to her. So they can still touch noses and lick each other. So at this point, she was crated and slowly got used to being in there. Now, it’s her go to place. That crate is her haven and she goes there for safety. She goes there with all her treats and toys she wants away from her big brother. She goes in there after she gets scolded. There is no more dog area at our house, but a fenced off kitchen and living room. The bedroom and bathroom doors close when we leave the apartment. \\n\\nThese are the commands our pups know: \\n1. sit\\n2. down (from whatever they’re perched up on, bed, couch, fence etc)\\n3. back up\\n4. leave it/let go\\n5. come\\n6. Obvious one No/stop. \\n7. “Go” or “good” is our release command to let them eat. It’s terrible. We made a huge mistake. Use another phrase. Lmao. \\n\\nThere are other House rules that our dogs know very well. \\n\\n1. Our kitchen is blocked off, and they know not to touch the fence. (They do it all the time and try to find loop holes by leaning against the wall instead lmao). If there is no fence they are allowed in. They really understand the concept of a fence because we did this. \\n\\n2. They are not allowed on the couch. It is a privilege. Our living room is also fenced off and they are only allowed when we are in there. (It’s carpeted so we originally implemented this strategy for our human ways of life but found that it was good training in setting boundaries.) \\n\\n3. They understand that when we eat, they don’t get attention so they leave us alone. They never get scraps from the table. But once we finish they ask for attention. I dunno how they know but it must be a certain body language they picked up. \\n\\n4. And only when we pick them up to put them on the couch or bed, are they allowed. But as soon as they misbehave, like begin to “play”, we put them back down on the ground. maltipoo damaged our first couch when he was a puppy while we weren’t home, so this was our response. It’s worked beautifully and we did this for our bed too. they both understand that the bed and couch is a privileged area where they must be on their best behavior. Once they display any unwanted behavior, we put them back down immediately. Now even when she sneaks onto the couch when we’re not home, she knows she’s not supposed to be there so she just naps. Which honestly I’m ok with. \\nAnd now, whenever I put my weiner on my bed, she lays still like a statue and falls asleep. It’s so peaceful. She loves it. So many sighs of happiness.  And she doesn’t ever complain or whine when I put her back down on her own bed because our bed is a privilege and it’s time for bed now. She’ll give me puppy eyes and ask to come back up but when I say no, she goes to her bed. \\n\\n5. We always tell them to sit before they get anything. Easy and quick. But now whenever they want something, they sit and gently place their paw on us to get our attention. \\n\\n6. Weiner dogs are extremely motivated by food and smells. But we taught her self control. We put fresh hot chicken breast down in front of her, and she is not allowed to eat it until we tell her. That Self control over fresh chicken is really admirable. Sometimes they wait 30 seconds, sometimes 2 minutes. But only eat at our command. ”leave it” is the command we used here. \\n\\n7. She also had a problem with inching forward to her food and slowly but surely sticking her nose in it. And then one lick. Lmao. So cute but bad. So we had to teach her to back up. Literally we say “back up” and she scoots back one paw at a time. She doesn’t wAnt to scoot back but she knows she has to so she does minimal. L. M. A. O. To enhance this, I put a line about 1 foot away from her bowl. (Just a folded up mat to create a visual and physical boundary she can feel with her paw) And I make her sit behind the line. Now she automatically goes behind the line and sits there. \\n\\nShe’s one and half now and she still gets so excited to eat that her butt still doesn’t touch the ground when she “sits”, she does that half squat. You know what I’m talking about lmao. so I still have to remind her to sit and she puts her butt all the way to the ground and then they are released to eat. \\n\\nEventually, I think at around 7-8 months, weenie was understanding rules and doing her business without fail in the patio. We opened up the dog area and let both dogs roam the apartment (while living room and kitchen still blocked off) so they only have access to their dog area, patio, and our bedroom. We put a dog bed next to our bed and let her sleep there. You can imagine how happy she was. She probably thought she won the canine lottery or died and went to doggy heaven. At first, we had issues with this too. This was new, and a different routine than before. In the middle of the night, she would get up to use the “restroom” but was too lazy to go all the way outside (it wasn’t even far!!!!! Lazy!!!!). So she’d go right outside our bedroom in the hallway. She also had another really frustrating problem but funny in retrospect. I’m pretty sure she went half way out the doggy door( like just her front paws and head) and smelled the patio and thought, “oh this is where I pee.” And she would pee. Inside. Her head is outside and her butt is inside. We screamed at her every time she did that and she scrammed outside. Just needed a little verbal encouragement. LOL. That behavior was fixed fairly quickly for us thank god. \\n\\nSo she eventually moved to sleep inside the bedroom next to my side of the bed. At like 7-8 months old. That’s several months living with us.\\n\\nI want to believe that my weenie dog Molly is one of the better behaved dachshunds out there. Especially after hearing all the horror stories of dachshunds misbehaving. She’s definitely not perfect because she is a professional thief and only breaks rules when she thinks we’re not supervising. She also knows that grandma doesn’t have rules and so she won’t listen as well at my bf’s moms house. She spoils them with no training. *rolls eyes so hard* But the fact that she understands there are rules and she’s an angel around us, makes me believe that we did our job and taught her the rules. It’s her decision to follow them or not, and consequences follow. This may be me giving too much human like credit to a dog though. She’s also an escape artist and learned to climb in and out of places before we got home. While... hiding..... evidence... we have a new set of challenges now. She also understands the concept of time, which is what’s exacerbating this. She understands that she has time to be mischievous, and maybe even how much time she has. It’s crazy how smart they are but if you have high expectations and patience, you can train your weenie to be the dog you want. And I can’t emphasize consistency enough. It’s definitely work. Some breeds just require more training. Like pit bulls are probably the most demanding. \\n\\nBut yeah! Good luck! This is prob your best bet.  There might be an accident the first night for two.  The accidents will stop once she realizes that is where she is going to sleep from now on.  They don't normally pee or poop where they sleep.  Good luck!\"],\n",
       "      dtype=object)"
      ]
     },
     "execution_count": 740,
     "metadata": {},
     "output_type": "execute_result"
    }
   ],
   "source": [
    "topic_docs = top_docs(df_doc_topic, 'Topic_6',3)\n",
    "topic_docs"
   ]
  },
  {
   "cell_type": "markdown",
   "metadata": {},
   "source": [
    "## Explore topic distribution"
   ]
  },
  {
   "cell_type": "code",
   "execution_count": 649,
   "metadata": {
    "ExecuteTime": {
     "end_time": "2020-11-12T20:29:48.172889Z",
     "start_time": "2020-11-12T20:29:48.107296Z"
    }
   },
   "outputs": [
    {
     "data": {
      "text/html": [
       "<div>\n",
       "<style scoped>\n",
       "    .dataframe tbody tr th:only-of-type {\n",
       "        vertical-align: middle;\n",
       "    }\n",
       "\n",
       "    .dataframe tbody tr th {\n",
       "        vertical-align: top;\n",
       "    }\n",
       "\n",
       "    .dataframe thead th {\n",
       "        text-align: right;\n",
       "    }\n",
       "</style>\n",
       "<table border=\"1\" class=\"dataframe\">\n",
       "  <thead>\n",
       "    <tr style=\"text-align: right;\">\n",
       "      <th></th>\n",
       "      <th>Topic_0</th>\n",
       "      <th>Topic_1</th>\n",
       "      <th>Topic_2</th>\n",
       "      <th>Topic_3</th>\n",
       "      <th>Topic_4</th>\n",
       "      <th>Topic_5</th>\n",
       "      <th>Topic_6</th>\n",
       "      <th>Topic_7</th>\n",
       "    </tr>\n",
       "  </thead>\n",
       "  <tbody>\n",
       "    <tr>\n",
       "      <th>Comment_0</th>\n",
       "      <td>0.0000</td>\n",
       "      <td>0.0007</td>\n",
       "      <td>0.0000</td>\n",
       "      <td>0.0000</td>\n",
       "      <td>0.0000</td>\n",
       "      <td>0.0024</td>\n",
       "      <td>0.0000</td>\n",
       "      <td>0.0011</td>\n",
       "    </tr>\n",
       "    <tr>\n",
       "      <th>Comment_1</th>\n",
       "      <td>0.0000</td>\n",
       "      <td>0.0134</td>\n",
       "      <td>0.0000</td>\n",
       "      <td>0.0000</td>\n",
       "      <td>0.0000</td>\n",
       "      <td>0.0035</td>\n",
       "      <td>0.0000</td>\n",
       "      <td>0.0049</td>\n",
       "    </tr>\n",
       "    <tr>\n",
       "      <th>Comment_2</th>\n",
       "      <td>0.0000</td>\n",
       "      <td>0.0001</td>\n",
       "      <td>0.0000</td>\n",
       "      <td>0.0000</td>\n",
       "      <td>0.0000</td>\n",
       "      <td>0.0002</td>\n",
       "      <td>0.0000</td>\n",
       "      <td>0.0000</td>\n",
       "    </tr>\n",
       "    <tr>\n",
       "      <th>Comment_3</th>\n",
       "      <td>0.0000</td>\n",
       "      <td>0.0000</td>\n",
       "      <td>0.0014</td>\n",
       "      <td>0.0023</td>\n",
       "      <td>0.0000</td>\n",
       "      <td>0.0134</td>\n",
       "      <td>0.0000</td>\n",
       "      <td>0.0000</td>\n",
       "    </tr>\n",
       "    <tr>\n",
       "      <th>Comment_4</th>\n",
       "      <td>0.0005</td>\n",
       "      <td>0.0000</td>\n",
       "      <td>0.0000</td>\n",
       "      <td>0.0001</td>\n",
       "      <td>0.0003</td>\n",
       "      <td>0.0006</td>\n",
       "      <td>0.0000</td>\n",
       "      <td>0.0000</td>\n",
       "    </tr>\n",
       "    <tr>\n",
       "      <th>...</th>\n",
       "      <td>...</td>\n",
       "      <td>...</td>\n",
       "      <td>...</td>\n",
       "      <td>...</td>\n",
       "      <td>...</td>\n",
       "      <td>...</td>\n",
       "      <td>...</td>\n",
       "      <td>...</td>\n",
       "    </tr>\n",
       "    <tr>\n",
       "      <th>Comment_79063</th>\n",
       "      <td>0.0069</td>\n",
       "      <td>0.0215</td>\n",
       "      <td>0.0004</td>\n",
       "      <td>0.0000</td>\n",
       "      <td>0.0026</td>\n",
       "      <td>0.0012</td>\n",
       "      <td>0.0000</td>\n",
       "      <td>0.0000</td>\n",
       "    </tr>\n",
       "    <tr>\n",
       "      <th>Comment_79064</th>\n",
       "      <td>0.0000</td>\n",
       "      <td>0.0000</td>\n",
       "      <td>0.0000</td>\n",
       "      <td>0.0000</td>\n",
       "      <td>0.0000</td>\n",
       "      <td>0.0000</td>\n",
       "      <td>0.0000</td>\n",
       "      <td>0.0583</td>\n",
       "    </tr>\n",
       "    <tr>\n",
       "      <th>Comment_79065</th>\n",
       "      <td>0.0000</td>\n",
       "      <td>0.0000</td>\n",
       "      <td>0.0000</td>\n",
       "      <td>0.0000</td>\n",
       "      <td>0.0000</td>\n",
       "      <td>0.0000</td>\n",
       "      <td>0.0000</td>\n",
       "      <td>0.0000</td>\n",
       "    </tr>\n",
       "    <tr>\n",
       "      <th>Comment_79066</th>\n",
       "      <td>0.0008</td>\n",
       "      <td>0.0001</td>\n",
       "      <td>0.0002</td>\n",
       "      <td>0.0000</td>\n",
       "      <td>0.0000</td>\n",
       "      <td>0.0005</td>\n",
       "      <td>0.0015</td>\n",
       "      <td>0.0000</td>\n",
       "    </tr>\n",
       "    <tr>\n",
       "      <th>Comment_79067</th>\n",
       "      <td>0.0000</td>\n",
       "      <td>0.0127</td>\n",
       "      <td>0.0000</td>\n",
       "      <td>0.0000</td>\n",
       "      <td>0.0000</td>\n",
       "      <td>0.0154</td>\n",
       "      <td>0.0000</td>\n",
       "      <td>0.0059</td>\n",
       "    </tr>\n",
       "  </tbody>\n",
       "</table>\n",
       "<p>79068 rows × 8 columns</p>\n",
       "</div>"
      ],
      "text/plain": [
       "               Topic_0  Topic_1  Topic_2  Topic_3  Topic_4  Topic_5  Topic_6  \\\n",
       "Comment_0       0.0000   0.0007   0.0000   0.0000   0.0000   0.0024   0.0000   \n",
       "Comment_1       0.0000   0.0134   0.0000   0.0000   0.0000   0.0035   0.0000   \n",
       "Comment_2       0.0000   0.0001   0.0000   0.0000   0.0000   0.0002   0.0000   \n",
       "Comment_3       0.0000   0.0000   0.0014   0.0023   0.0000   0.0134   0.0000   \n",
       "Comment_4       0.0005   0.0000   0.0000   0.0001   0.0003   0.0006   0.0000   \n",
       "...                ...      ...      ...      ...      ...      ...      ...   \n",
       "Comment_79063   0.0069   0.0215   0.0004   0.0000   0.0026   0.0012   0.0000   \n",
       "Comment_79064   0.0000   0.0000   0.0000   0.0000   0.0000   0.0000   0.0000   \n",
       "Comment_79065   0.0000   0.0000   0.0000   0.0000   0.0000   0.0000   0.0000   \n",
       "Comment_79066   0.0008   0.0001   0.0002   0.0000   0.0000   0.0005   0.0015   \n",
       "Comment_79067   0.0000   0.0127   0.0000   0.0000   0.0000   0.0154   0.0000   \n",
       "\n",
       "               Topic_7  \n",
       "Comment_0       0.0011  \n",
       "Comment_1       0.0049  \n",
       "Comment_2       0.0000  \n",
       "Comment_3       0.0000  \n",
       "Comment_4       0.0000  \n",
       "...                ...  \n",
       "Comment_79063   0.0000  \n",
       "Comment_79064   0.0583  \n",
       "Comment_79065   0.0000  \n",
       "Comment_79066   0.0000  \n",
       "Comment_79067   0.0059  \n",
       "\n",
       "[79068 rows x 8 columns]"
      ]
     },
     "execution_count": 649,
     "metadata": {},
     "output_type": "execute_result"
    }
   ],
   "source": [
    "df_doc_topic.iloc[:, : nmf.n_components]"
   ]
  },
  {
   "cell_type": "code",
   "execution_count": 650,
   "metadata": {
    "ExecuteTime": {
     "end_time": "2020-11-12T20:30:01.917206Z",
     "start_time": "2020-11-12T20:30:01.854167Z"
    }
   },
   "outputs": [
    {
     "data": {
      "text/html": [
       "<div>\n",
       "<style scoped>\n",
       "    .dataframe tbody tr th:only-of-type {\n",
       "        vertical-align: middle;\n",
       "    }\n",
       "\n",
       "    .dataframe tbody tr th {\n",
       "        vertical-align: top;\n",
       "    }\n",
       "\n",
       "    .dataframe thead th {\n",
       "        text-align: right;\n",
       "    }\n",
       "</style>\n",
       "<table border=\"1\" class=\"dataframe\">\n",
       "  <thead>\n",
       "    <tr style=\"text-align: right;\">\n",
       "      <th></th>\n",
       "      <th>Topic_0</th>\n",
       "      <th>Topic_1</th>\n",
       "      <th>Topic_2</th>\n",
       "      <th>Topic_3</th>\n",
       "      <th>Topic_4</th>\n",
       "      <th>Topic_5</th>\n",
       "      <th>Topic_6</th>\n",
       "      <th>Topic_7</th>\n",
       "      <th>orig_comments</th>\n",
       "      <th>dominant_topic</th>\n",
       "    </tr>\n",
       "  </thead>\n",
       "  <tbody>\n",
       "    <tr>\n",
       "      <th>Comment_0</th>\n",
       "      <td>0.0</td>\n",
       "      <td>0.0007</td>\n",
       "      <td>0.0</td>\n",
       "      <td>0.0</td>\n",
       "      <td>0.0</td>\n",
       "      <td>0.0024</td>\n",
       "      <td>0.0</td>\n",
       "      <td>0.0011</td>\n",
       "      <td>What's the new pupper's name? Utah</td>\n",
       "      <td>5</td>\n",
       "    </tr>\n",
       "    <tr>\n",
       "      <th>Comment_1</th>\n",
       "      <td>0.0</td>\n",
       "      <td>0.0134</td>\n",
       "      <td>0.0</td>\n",
       "      <td>0.0</td>\n",
       "      <td>0.0</td>\n",
       "      <td>0.0035</td>\n",
       "      <td>0.0</td>\n",
       "      <td>0.0049</td>\n",
       "      <td>Dude, she's beautiful!</td>\n",
       "      <td>1</td>\n",
       "    </tr>\n",
       "  </tbody>\n",
       "</table>\n",
       "</div>"
      ],
      "text/plain": [
       "           Topic_0  Topic_1  Topic_2  Topic_3  Topic_4  Topic_5  Topic_6  \\\n",
       "Comment_0      0.0   0.0007      0.0      0.0      0.0   0.0024      0.0   \n",
       "Comment_1      0.0   0.0134      0.0      0.0      0.0   0.0035      0.0   \n",
       "\n",
       "           Topic_7                       orig_comments  dominant_topic  \n",
       "Comment_0   0.0011  What's the new pupper's name? Utah               5  \n",
       "Comment_1   0.0049              Dude, she's beautiful!               1  "
      ]
     },
     "execution_count": 650,
     "metadata": {},
     "output_type": "execute_result"
    }
   ],
   "source": [
    "# identify dominant topic for each doc\n",
    "df_doc_topic['dominant_topic'] = np.argmax(df_doc_topic.iloc[:, : nmf.n_components].values, axis=1)\n",
    "df_doc_topic.head(2)"
   ]
  },
  {
   "cell_type": "code",
   "execution_count": 651,
   "metadata": {
    "ExecuteTime": {
     "end_time": "2020-11-12T20:30:04.994306Z",
     "start_time": "2020-11-12T20:30:04.931985Z"
    },
    "scrolled": true
   },
   "outputs": [
    {
     "data": {
      "text/plain": [
       "Topic_0    0.012\n",
       "Topic_1    0.017\n",
       "Topic_2    0.011\n",
       "Topic_3    0.008\n",
       "Topic_4    0.008\n",
       "Topic_5    0.024\n",
       "Topic_6    0.013\n",
       "Topic_7    0.013\n",
       "dtype: float64"
      ]
     },
     "execution_count": 651,
     "metadata": {},
     "output_type": "execute_result"
    }
   ],
   "source": [
    "# average probability of each topic\n",
    "df_doc_topic.iloc[:, : nmf.n_components].mean(axis=0).round(3)"
   ]
  },
  {
   "cell_type": "code",
   "execution_count": 652,
   "metadata": {
    "ExecuteTime": {
     "end_time": "2020-11-12T20:30:14.028861Z",
     "start_time": "2020-11-12T20:30:13.966736Z"
    },
    "scrolled": true
   },
   "outputs": [
    {
     "data": {
      "text/html": [
       "<div>\n",
       "<style scoped>\n",
       "    .dataframe tbody tr th:only-of-type {\n",
       "        vertical-align: middle;\n",
       "    }\n",
       "\n",
       "    .dataframe tbody tr th {\n",
       "        vertical-align: top;\n",
       "    }\n",
       "\n",
       "    .dataframe thead th {\n",
       "        text-align: right;\n",
       "    }\n",
       "</style>\n",
       "<table border=\"1\" class=\"dataframe\">\n",
       "  <thead>\n",
       "    <tr style=\"text-align: right;\">\n",
       "      <th></th>\n",
       "      <th>Topic_0</th>\n",
       "      <th>Topic_1</th>\n",
       "      <th>Topic_2</th>\n",
       "      <th>Topic_3</th>\n",
       "      <th>Topic_4</th>\n",
       "      <th>Topic_5</th>\n",
       "      <th>Topic_6</th>\n",
       "      <th>Topic_7</th>\n",
       "      <th>orig_comments</th>\n",
       "      <th>dominant_topic</th>\n",
       "      <th>subreddit</th>\n",
       "    </tr>\n",
       "  </thead>\n",
       "  <tbody>\n",
       "    <tr>\n",
       "      <th>Comment_0</th>\n",
       "      <td>0.0</td>\n",
       "      <td>0.0007</td>\n",
       "      <td>0.0</td>\n",
       "      <td>0.0</td>\n",
       "      <td>0.0</td>\n",
       "      <td>0.0024</td>\n",
       "      <td>0.0</td>\n",
       "      <td>0.0011</td>\n",
       "      <td>What's the new pupper's name? Utah</td>\n",
       "      <td>5</td>\n",
       "      <td>goldenretrievers</td>\n",
       "    </tr>\n",
       "    <tr>\n",
       "      <th>Comment_1</th>\n",
       "      <td>0.0</td>\n",
       "      <td>0.0134</td>\n",
       "      <td>0.0</td>\n",
       "      <td>0.0</td>\n",
       "      <td>0.0</td>\n",
       "      <td>0.0035</td>\n",
       "      <td>0.0</td>\n",
       "      <td>0.0049</td>\n",
       "      <td>Dude, she's beautiful!</td>\n",
       "      <td>1</td>\n",
       "      <td>pitbulls</td>\n",
       "    </tr>\n",
       "  </tbody>\n",
       "</table>\n",
       "</div>"
      ],
      "text/plain": [
       "           Topic_0  Topic_1  Topic_2  Topic_3  Topic_4  Topic_5  Topic_6  \\\n",
       "Comment_0      0.0   0.0007      0.0      0.0      0.0   0.0024      0.0   \n",
       "Comment_1      0.0   0.0134      0.0      0.0      0.0   0.0035      0.0   \n",
       "\n",
       "           Topic_7                       orig_comments  dominant_topic  \\\n",
       "Comment_0   0.0011  What's the new pupper's name? Utah               5   \n",
       "Comment_1   0.0049              Dude, she's beautiful!               1   \n",
       "\n",
       "                  subreddit  \n",
       "Comment_0  goldenretrievers  \n",
       "Comment_1          pitbulls  "
      ]
     },
     "execution_count": 652,
     "metadata": {},
     "output_type": "execute_result"
    }
   ],
   "source": [
    "# add subreddit into the doc_topic matrix for comparison across subs\n",
    "df_doc_topic['subreddit'] = df['subreddit'].values\n",
    "df_doc_topic.head(2)"
   ]
  },
  {
   "cell_type": "code",
   "execution_count": 713,
   "metadata": {
    "ExecuteTime": {
     "end_time": "2020-11-13T01:26:17.404248Z",
     "start_time": "2020-11-13T01:26:17.324313Z"
    },
    "scrolled": true
   },
   "outputs": [],
   "source": [
    "# create groupby aggregation dictionary\n",
    "topics_cols = list(df_doc_topic.columns[:nmf.n_components])\n",
    "topics_agg_dict = {t:'mean' for t in topics_cols}\n",
    "\n",
    "# get average probability of each topic by breed\n",
    "topic_avg_per_breed = df_doc_topic.groupby('subreddit').agg(topics_agg_dict).round(3)*100\n",
    "topic_avg_per_breed.columns = ['leash training','love & loss','diet','chew toys','acquisition','face cuteness',\n",
    "                              'home training','general happiness']"
   ]
  },
  {
   "cell_type": "code",
   "execution_count": 655,
   "metadata": {
    "ExecuteTime": {
     "end_time": "2020-11-12T20:30:45.038095Z",
     "start_time": "2020-11-12T20:30:44.669676Z"
    }
   },
   "outputs": [
    {
     "data": {
      "image/png": "[encoded data removed]",
      "text/plain": [
       "<Figure size 432x288 with 1 Axes>"
      ]
     },
     "metadata": {
      "needs_background": "light"
     },
     "output_type": "display_data"
    }
   ],
   "source": [
    "# plot average probability of each topic by breed\n",
    "df_doc_topic.groupby('subreddit').agg(topics_agg_dict).round(3).plot(kind='bar');"
   ]
  },
  {
   "cell_type": "code",
   "execution_count": 736,
   "metadata": {
    "ExecuteTime": {
     "end_time": "2020-11-13T16:27:53.389307Z",
     "start_time": "2020-11-13T16:27:52.130065Z"
    }
   },
   "outputs": [
    {
     "name": "stdout",
     "output_type": "stream",
     "text": [
      "file:///var/folders/vb/189dd8b50xx65gllpj0mgh5m0000gn/T/tmpdygrm5bs.html\n"
     ]
    }
   ],
   "source": [
    "#now make an easier-to-read dot chart version\n",
    "from pygal.style import DefaultStyle\n",
    "dot_chart = pygal.Dot(x_label_rotation=30,width=1100,height=550,background='transparent')\n",
    "dot_chart.x_labels = topic_avg_per_breed.columns\n",
    "for ix,values in topic_avg_per_breed.iterrows():\n",
    "    dot_chart.add(ix, values)\n",
    "\n",
    "dot_chart.render_in_browser()\n",
    "dot_chart.render_to_png('dot_chart.png')"
   ]
  },
  {
   "cell_type": "code",
   "execution_count": 684,
   "metadata": {
    "ExecuteTime": {
     "end_time": "2020-11-12T23:12:42.446680Z",
     "start_time": "2020-11-12T23:12:42.383973Z"
    }
   },
   "outputs": [
    {
     "data": {
      "text/html": [
       "<div>\n",
       "<style scoped>\n",
       "    .dataframe tbody tr th:only-of-type {\n",
       "        vertical-align: middle;\n",
       "    }\n",
       "\n",
       "    .dataframe tbody tr th {\n",
       "        vertical-align: top;\n",
       "    }\n",
       "\n",
       "    .dataframe thead th {\n",
       "        text-align: right;\n",
       "    }\n",
       "</style>\n",
       "<table border=\"1\" class=\"dataframe\">\n",
       "  <thead>\n",
       "    <tr style=\"text-align: right;\">\n",
       "      <th></th>\n",
       "      <th>topic_num</th>\n",
       "      <th>freq</th>\n",
       "      <th>percent_of_max</th>\n",
       "      <th>bar_dim</th>\n",
       "    </tr>\n",
       "  </thead>\n",
       "  <tbody>\n",
       "    <tr>\n",
       "      <th>0</th>\n",
       "      <td>5</td>\n",
       "      <td>0.37</td>\n",
       "      <td>1.000000</td>\n",
       "      <td>18.000000</td>\n",
       "    </tr>\n",
       "    <tr>\n",
       "      <th>1</th>\n",
       "      <td>1</td>\n",
       "      <td>0.17</td>\n",
       "      <td>0.459459</td>\n",
       "      <td>8.270270</td>\n",
       "    </tr>\n",
       "    <tr>\n",
       "      <th>2</th>\n",
       "      <td>0</td>\n",
       "      <td>0.16</td>\n",
       "      <td>0.432432</td>\n",
       "      <td>7.783784</td>\n",
       "    </tr>\n",
       "    <tr>\n",
       "      <th>3</th>\n",
       "      <td>6</td>\n",
       "      <td>0.09</td>\n",
       "      <td>0.243243</td>\n",
       "      <td>4.378378</td>\n",
       "    </tr>\n",
       "    <tr>\n",
       "      <th>4</th>\n",
       "      <td>7</td>\n",
       "      <td>0.07</td>\n",
       "      <td>0.189189</td>\n",
       "      <td>3.405405</td>\n",
       "    </tr>\n",
       "    <tr>\n",
       "      <th>5</th>\n",
       "      <td>2</td>\n",
       "      <td>0.05</td>\n",
       "      <td>0.135135</td>\n",
       "      <td>2.432432</td>\n",
       "    </tr>\n",
       "    <tr>\n",
       "      <th>6</th>\n",
       "      <td>3</td>\n",
       "      <td>0.05</td>\n",
       "      <td>0.135135</td>\n",
       "      <td>2.432432</td>\n",
       "    </tr>\n",
       "    <tr>\n",
       "      <th>7</th>\n",
       "      <td>4</td>\n",
       "      <td>0.04</td>\n",
       "      <td>0.108108</td>\n",
       "      <td>1.945946</td>\n",
       "    </tr>\n",
       "  </tbody>\n",
       "</table>\n",
       "</div>"
      ],
      "text/plain": [
       "   topic_num  freq  percent_of_max    bar_dim\n",
       "0          5  0.37        1.000000  18.000000\n",
       "1          1  0.17        0.459459   8.270270\n",
       "2          0  0.16        0.432432   7.783784\n",
       "3          6  0.09        0.243243   4.378378\n",
       "4          7  0.07        0.189189   3.405405\n",
       "5          2  0.05        0.135135   2.432432\n",
       "6          3  0.05        0.135135   2.432432\n",
       "7          4  0.04        0.108108   1.945946"
      ]
     },
     "execution_count": 684,
     "metadata": {},
     "output_type": "execute_result"
    }
   ],
   "source": [
    "# calculate the dimensions of bars for ppt presentation (bar chart where longest bar = 18 inches)\n",
    "df_bar_dims = df_doc_topic['dominant_topic'].value_counts(normalize=True).round(2).reset_index()\n",
    "df_bar_dims.columns=[\"topic_num\",\"freq\"]\n",
    "df_bar_dims['percent_of_max'] = df_bar_dims['freq'] / np.max(df_bar_dims['freq'])\n",
    "df_bar_dims['bar_dim'] = df_bar_dims['percent_of_max']*18\n",
    "df_bar_dims"
   ]
  },
  {
   "cell_type": "code",
   "execution_count": 741,
   "metadata": {
    "ExecuteTime": {
     "end_time": "2020-11-16T03:08:27.850179Z",
     "start_time": "2020-11-16T03:08:27.473702Z"
    }
   },
   "outputs": [
    {
     "data": {
      "text/html": [
       "<div>\n",
       "<style scoped>\n",
       "    .dataframe tbody tr th:only-of-type {\n",
       "        vertical-align: middle;\n",
       "    }\n",
       "\n",
       "    .dataframe tbody tr th {\n",
       "        vertical-align: top;\n",
       "    }\n",
       "\n",
       "    .dataframe thead th {\n",
       "        text-align: right;\n",
       "    }\n",
       "</style>\n",
       "<table border=\"1\" class=\"dataframe\">\n",
       "  <thead>\n",
       "    <tr style=\"text-align: right;\">\n",
       "      <th></th>\n",
       "      <th>abandon</th>\n",
       "      <th>abandonment</th>\n",
       "      <th>abdoman</th>\n",
       "      <th>abdominal</th>\n",
       "      <th>abide</th>\n",
       "      <th>abide strict</th>\n",
       "      <th>ability</th>\n",
       "      <th>abit</th>\n",
       "      <th>able</th>\n",
       "      <th>able adopt</th>\n",
       "    </tr>\n",
       "  </thead>\n",
       "  <tbody>\n",
       "    <tr>\n",
       "      <th>Topic_0</th>\n",
       "      <td>0.040988</td>\n",
       "      <td>0.007839</td>\n",
       "      <td>0.000000</td>\n",
       "      <td>0.000000</td>\n",
       "      <td>0.000000</td>\n",
       "      <td>0.000000</td>\n",
       "      <td>0.153651</td>\n",
       "      <td>0.000000</td>\n",
       "      <td>0.834095</td>\n",
       "      <td>0.002720</td>\n",
       "    </tr>\n",
       "    <tr>\n",
       "      <th>Topic_1</th>\n",
       "      <td>0.090083</td>\n",
       "      <td>0.003973</td>\n",
       "      <td>0.020557</td>\n",
       "      <td>0.003049</td>\n",
       "      <td>0.000000</td>\n",
       "      <td>0.000000</td>\n",
       "      <td>0.057180</td>\n",
       "      <td>0.000000</td>\n",
       "      <td>0.848418</td>\n",
       "      <td>0.010356</td>\n",
       "    </tr>\n",
       "    <tr>\n",
       "      <th>Topic_2</th>\n",
       "      <td>0.000000</td>\n",
       "      <td>0.000000</td>\n",
       "      <td>0.001656</td>\n",
       "      <td>0.003369</td>\n",
       "      <td>0.000000</td>\n",
       "      <td>0.000000</td>\n",
       "      <td>0.007554</td>\n",
       "      <td>0.005444</td>\n",
       "      <td>0.300082</td>\n",
       "      <td>0.000000</td>\n",
       "    </tr>\n",
       "    <tr>\n",
       "      <th>Topic_3</th>\n",
       "      <td>0.000000</td>\n",
       "      <td>0.000000</td>\n",
       "      <td>0.000000</td>\n",
       "      <td>0.000000</td>\n",
       "      <td>0.000000</td>\n",
       "      <td>0.000000</td>\n",
       "      <td>0.000000</td>\n",
       "      <td>0.000000</td>\n",
       "      <td>0.131713</td>\n",
       "      <td>0.000000</td>\n",
       "    </tr>\n",
       "    <tr>\n",
       "      <th>Topic_4</th>\n",
       "      <td>0.082527</td>\n",
       "      <td>0.006009</td>\n",
       "      <td>0.000000</td>\n",
       "      <td>0.002572</td>\n",
       "      <td>0.086161</td>\n",
       "      <td>0.083048</td>\n",
       "      <td>0.132494</td>\n",
       "      <td>0.000000</td>\n",
       "      <td>0.567390</td>\n",
       "      <td>0.014089</td>\n",
       "    </tr>\n",
       "    <tr>\n",
       "      <th>Topic_5</th>\n",
       "      <td>0.029717</td>\n",
       "      <td>0.000000</td>\n",
       "      <td>0.000000</td>\n",
       "      <td>0.002904</td>\n",
       "      <td>0.000000</td>\n",
       "      <td>0.000000</td>\n",
       "      <td>0.044162</td>\n",
       "      <td>0.003812</td>\n",
       "      <td>0.000000</td>\n",
       "      <td>0.002368</td>\n",
       "    </tr>\n",
       "    <tr>\n",
       "      <th>Topic_6</th>\n",
       "      <td>0.009346</td>\n",
       "      <td>0.004075</td>\n",
       "      <td>0.000662</td>\n",
       "      <td>0.000000</td>\n",
       "      <td>0.000000</td>\n",
       "      <td>0.000000</td>\n",
       "      <td>0.004492</td>\n",
       "      <td>0.000000</td>\n",
       "      <td>0.437229</td>\n",
       "      <td>0.005143</td>\n",
       "    </tr>\n",
       "    <tr>\n",
       "      <th>Topic_7</th>\n",
       "      <td>0.082881</td>\n",
       "      <td>0.000000</td>\n",
       "      <td>0.000000</td>\n",
       "      <td>0.001609</td>\n",
       "      <td>0.000000</td>\n",
       "      <td>0.000000</td>\n",
       "      <td>0.000000</td>\n",
       "      <td>0.000000</td>\n",
       "      <td>0.107703</td>\n",
       "      <td>0.004552</td>\n",
       "    </tr>\n",
       "  </tbody>\n",
       "</table>\n",
       "</div>"
      ],
      "text/plain": [
       "          abandon  abandonment   abdoman  abdominal     abide  abide strict  \\\n",
       "Topic_0  0.040988     0.007839  0.000000   0.000000  0.000000      0.000000   \n",
       "Topic_1  0.090083     0.003973  0.020557   0.003049  0.000000      0.000000   \n",
       "Topic_2  0.000000     0.000000  0.001656   0.003369  0.000000      0.000000   \n",
       "Topic_3  0.000000     0.000000  0.000000   0.000000  0.000000      0.000000   \n",
       "Topic_4  0.082527     0.006009  0.000000   0.002572  0.086161      0.083048   \n",
       "Topic_5  0.029717     0.000000  0.000000   0.002904  0.000000      0.000000   \n",
       "Topic_6  0.009346     0.004075  0.000662   0.000000  0.000000      0.000000   \n",
       "Topic_7  0.082881     0.000000  0.000000   0.001609  0.000000      0.000000   \n",
       "\n",
       "          ability      abit      able  able adopt  \n",
       "Topic_0  0.153651  0.000000  0.834095    0.002720  \n",
       "Topic_1  0.057180  0.000000  0.848418    0.010356  \n",
       "Topic_2  0.007554  0.005444  0.300082    0.000000  \n",
       "Topic_3  0.000000  0.000000  0.131713    0.000000  \n",
       "Topic_4  0.132494  0.000000  0.567390    0.014089  \n",
       "Topic_5  0.044162  0.003812  0.000000    0.002368  \n",
       "Topic_6  0.004492  0.000000  0.437229    0.005143  \n",
       "Topic_7  0.000000  0.000000  0.107703    0.004552  "
      ]
     },
     "execution_count": 741,
     "metadata": {},
     "output_type": "execute_result"
    }
   ],
   "source": [
    "# Topic - Keyword matrix\n",
    "df_topic_keywords = pd.DataFrame(nmf.components_)\n",
    "\n",
    "# assign column and index\n",
    "df_topic_keywords.columns = vectorizer.get_feature_names()\n",
    "df_topic_keywords.index = topicnames\n",
    "\n",
    "df_topic_keywords.iloc[:,:10]"
   ]
  }
 ],
 "metadata": {
  "kernelspec": {
   "display_name": "Python 3",
   "language": "python",
   "name": "python3"
  },
  "language_info": {
   "codemirror_mode": {
    "name": "ipython",
    "version": 3
   },
   "file_extension": ".py",
   "mimetype": "text/x-python",
   "name": "python",
   "nbconvert_exporter": "python",
   "pygments_lexer": "ipython3",
   "version": "3.8.3"
  },
  "toc": {
   "base_numbering": 1,
   "nav_menu": {},
   "number_sections": true,
   "sideBar": true,
   "skip_h1_title": false,
   "title_cell": "Table of Contents",
   "title_sidebar": "Contents",
   "toc_cell": false,
   "toc_position": {
    "height": "calc(100% - 180px)",
    "left": "10px",
    "top": "150px",
    "width": "253px"
   },
   "toc_section_display": true,
   "toc_window_display": true
  }
 },
 "nbformat": 4,
 "nbformat_minor": 4
}
